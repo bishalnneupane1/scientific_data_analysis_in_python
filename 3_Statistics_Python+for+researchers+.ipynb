{
 "cells": [
  {
   "cell_type": "markdown",
   "id": "1ea8f571",
   "metadata": {},
   "source": [
    "Plotting Cross-Validated Predictions"
   ]
  },
  {
   "cell_type": "code",
   "execution_count": 1,
   "id": "9874b584",
   "metadata": {
    "ExecuteTime": {
     "end_time": "2021-07-02T22:44:40.471390Z",
     "start_time": "2021-07-02T22:44:38.614302Z"
    }
   },
   "outputs": [],
   "source": [
    "import math\n",
    "import statistics\n",
    "import numpy as np\n",
    "import scipy.stats\n",
    "import pandas as pd"
   ]
  },
  {
   "cell_type": "code",
   "execution_count": null,
   "id": "9373e820",
   "metadata": {
    "ExecuteTime": {
     "end_time": "2021-07-02T22:44:42.414506Z",
     "start_time": "2021-07-02T22:44:41.385070Z"
    }
   },
   "outputs": [],
   "source": [
    "from sklearn import datasets\n",
    "from sklearn.model_selection import cross_val_predict\n",
    "from sklearn import linear_model\n",
    "import matplotlib.pyplot as plt\n",
    "import numpy as np\n",
    "\n",
    "\n",
    "lr = linear_model.LinearRegression()\n",
    "X, y = datasets.load_diabetes(return_X_y=True)\n",
    "\n",
    "# cross_val_predict returns an array of the same size as `y` where each entry\n",
    "# is a prediction obtained by cross validation:\n",
    "predicted = cross_val_predict(lr, X, y, cv=10)\n",
    "\n",
    "fig, ax = plt.subplots()\n",
    "ax.scatter(y, predicted, edgecolors=(0, 0, 0))\n",
    "ax.plot([y.min(), y.max()], [y.min(), y.max()], 'k--', lw=4)\n",
    "ax.set_xlabel('Measured')\n",
    "ax.set_ylabel('Predicted')\n",
    "plt.show()"
   ]
  },
  {
   "cell_type": "markdown",
   "id": "2b4f2b09",
   "metadata": {},
   "source": [
    "## Data analysis with Pandas"
   ]
  },
  {
   "cell_type": "code",
   "execution_count": 3,
   "id": "4cc20fa7",
   "metadata": {
    "ExecuteTime": {
     "end_time": "2021-07-02T22:44:49.847317Z",
     "start_time": "2021-07-02T22:44:49.821926Z"
    }
   },
   "outputs": [
    {
     "data": {
      "text/plain": [
       "(2, 7)"
      ]
     },
     "execution_count": 3,
     "metadata": {},
     "output_type": "execute_result"
    }
   ],
   "source": [
    "import pandas as pd\n",
    "df = pd.DataFrame(\n",
    "\t{\"Sample\": [\"S1\", \"S2\"],\n",
    "\t't0': [0.1, 0.2],\n",
    "\t't1': [1.5, 2],\n",
    "\t't2': [2.5, 2.8],\n",
    "\t't3': [3, 3.5],\n",
    "\t't4': [4.4, 1.2],\n",
    "\t't5': [3.7, 2.1]})\n",
    "df.shape "
   ]
  },
  {
   "cell_type": "code",
   "execution_count": 4,
   "id": "86bd8a92",
   "metadata": {
    "ExecuteTime": {
     "end_time": "2021-07-02T22:44:51.047378Z",
     "start_time": "2021-07-02T22:44:51.023541Z"
    }
   },
   "outputs": [],
   "source": [
    "# Gather time columns [t0, ..., t5] into rows\n",
    "df = pd.melt(df,\n",
    "\t\tid_vars = 'Sample',\n",
    "\t\tvar_name = 'Time', \n",
    "\t\tvalue_name = 'Exprs')"
   ]
  },
  {
   "cell_type": "code",
   "execution_count": 5,
   "id": "4fb85e21",
   "metadata": {
    "ExecuteTime": {
     "end_time": "2021-07-02T22:44:53.654272Z",
     "start_time": "2021-07-02T22:44:53.620889Z"
    }
   },
   "outputs": [
    {
     "data": {
      "text/html": [
       "<div>\n",
       "<style scoped>\n",
       "    .dataframe tbody tr th:only-of-type {\n",
       "        vertical-align: middle;\n",
       "    }\n",
       "\n",
       "    .dataframe tbody tr th {\n",
       "        vertical-align: top;\n",
       "    }\n",
       "\n",
       "    .dataframe thead th {\n",
       "        text-align: right;\n",
       "    }\n",
       "</style>\n",
       "<table border=\"1\" class=\"dataframe\">\n",
       "  <thead>\n",
       "    <tr style=\"text-align: right;\">\n",
       "      <th></th>\n",
       "      <th>Sample</th>\n",
       "      <th>Time</th>\n",
       "      <th>Exprs</th>\n",
       "    </tr>\n",
       "  </thead>\n",
       "  <tbody>\n",
       "    <tr>\n",
       "      <th>0</th>\n",
       "      <td>S1</td>\n",
       "      <td>t0</td>\n",
       "      <td>0.1</td>\n",
       "    </tr>\n",
       "    <tr>\n",
       "      <th>1</th>\n",
       "      <td>S2</td>\n",
       "      <td>t0</td>\n",
       "      <td>0.2</td>\n",
       "    </tr>\n",
       "    <tr>\n",
       "      <th>2</th>\n",
       "      <td>S1</td>\n",
       "      <td>t1</td>\n",
       "      <td>1.5</td>\n",
       "    </tr>\n",
       "    <tr>\n",
       "      <th>3</th>\n",
       "      <td>S2</td>\n",
       "      <td>t1</td>\n",
       "      <td>2.0</td>\n",
       "    </tr>\n",
       "    <tr>\n",
       "      <th>4</th>\n",
       "      <td>S1</td>\n",
       "      <td>t2</td>\n",
       "      <td>2.5</td>\n",
       "    </tr>\n",
       "    <tr>\n",
       "      <th>5</th>\n",
       "      <td>S2</td>\n",
       "      <td>t2</td>\n",
       "      <td>2.8</td>\n",
       "    </tr>\n",
       "    <tr>\n",
       "      <th>6</th>\n",
       "      <td>S1</td>\n",
       "      <td>t3</td>\n",
       "      <td>3.0</td>\n",
       "    </tr>\n",
       "    <tr>\n",
       "      <th>7</th>\n",
       "      <td>S2</td>\n",
       "      <td>t3</td>\n",
       "      <td>3.5</td>\n",
       "    </tr>\n",
       "    <tr>\n",
       "      <th>8</th>\n",
       "      <td>S1</td>\n",
       "      <td>t4</td>\n",
       "      <td>4.4</td>\n",
       "    </tr>\n",
       "    <tr>\n",
       "      <th>9</th>\n",
       "      <td>S2</td>\n",
       "      <td>t4</td>\n",
       "      <td>1.2</td>\n",
       "    </tr>\n",
       "    <tr>\n",
       "      <th>10</th>\n",
       "      <td>S1</td>\n",
       "      <td>t5</td>\n",
       "      <td>3.7</td>\n",
       "    </tr>\n",
       "    <tr>\n",
       "      <th>11</th>\n",
       "      <td>S2</td>\n",
       "      <td>t5</td>\n",
       "      <td>2.1</td>\n",
       "    </tr>\n",
       "  </tbody>\n",
       "</table>\n",
       "</div>"
      ],
      "text/plain": [
       "   Sample Time  Exprs\n",
       "0      S1   t0    0.1\n",
       "1      S2   t0    0.2\n",
       "2      S1   t1    1.5\n",
       "3      S2   t1    2.0\n",
       "4      S1   t2    2.5\n",
       "5      S2   t2    2.8\n",
       "6      S1   t3    3.0\n",
       "7      S2   t3    3.5\n",
       "8      S1   t4    4.4\n",
       "9      S2   t4    1.2\n",
       "10     S1   t5    3.7\n",
       "11     S2   t5    2.1"
      ]
     },
     "execution_count": 5,
     "metadata": {},
     "output_type": "execute_result"
    }
   ],
   "source": [
    "df"
   ]
  },
  {
   "cell_type": "code",
   "execution_count": 6,
   "id": "a4704d70",
   "metadata": {
    "ExecuteTime": {
     "end_time": "2021-07-02T22:44:54.829868Z",
     "start_time": "2021-07-02T22:44:54.789665Z"
    }
   },
   "outputs": [
    {
     "data": {
      "text/html": [
       "<div>\n",
       "<style scoped>\n",
       "    .dataframe tbody tr th:only-of-type {\n",
       "        vertical-align: middle;\n",
       "    }\n",
       "\n",
       "    .dataframe tbody tr th {\n",
       "        vertical-align: top;\n",
       "    }\n",
       "\n",
       "    .dataframe thead th {\n",
       "        text-align: right;\n",
       "    }\n",
       "</style>\n",
       "<table border=\"1\" class=\"dataframe\">\n",
       "  <thead>\n",
       "    <tr style=\"text-align: right;\">\n",
       "      <th>Sample</th>\n",
       "      <th>S1</th>\n",
       "      <th>S2</th>\n",
       "    </tr>\n",
       "    <tr>\n",
       "      <th>Time</th>\n",
       "      <th></th>\n",
       "      <th></th>\n",
       "    </tr>\n",
       "  </thead>\n",
       "  <tbody>\n",
       "    <tr>\n",
       "      <th>t0</th>\n",
       "      <td>0.1</td>\n",
       "      <td>0.2</td>\n",
       "    </tr>\n",
       "    <tr>\n",
       "      <th>t1</th>\n",
       "      <td>1.5</td>\n",
       "      <td>2.0</td>\n",
       "    </tr>\n",
       "    <tr>\n",
       "      <th>t2</th>\n",
       "      <td>2.5</td>\n",
       "      <td>2.8</td>\n",
       "    </tr>\n",
       "    <tr>\n",
       "      <th>t3</th>\n",
       "      <td>3.0</td>\n",
       "      <td>3.5</td>\n",
       "    </tr>\n",
       "    <tr>\n",
       "      <th>t4</th>\n",
       "      <td>4.4</td>\n",
       "      <td>1.2</td>\n",
       "    </tr>\n",
       "    <tr>\n",
       "      <th>t5</th>\n",
       "      <td>3.7</td>\n",
       "      <td>2.1</td>\n",
       "    </tr>\n",
       "  </tbody>\n",
       "</table>\n",
       "</div>"
      ],
      "text/plain": [
       "Sample   S1   S2\n",
       "Time            \n",
       "t0      0.1  0.2\n",
       "t1      1.5  2.0\n",
       "t2      2.5  2.8\n",
       "t3      3.0  3.5\n",
       "t4      4.4  1.2\n",
       "t5      3.7  2.1"
      ]
     },
     "execution_count": 6,
     "metadata": {},
     "output_type": "execute_result"
    }
   ],
   "source": [
    "df = pd.pivot_table(df,\n",
    "\t\t\tvalues='Exprs',\n",
    "\t\t\tcolumns='Sample',\n",
    "\t\t\tindex='Time')\n",
    "df"
   ]
  },
  {
   "cell_type": "code",
   "execution_count": 7,
   "id": "73df1671",
   "metadata": {
    "ExecuteTime": {
     "end_time": "2021-07-02T22:44:56.411788Z",
     "start_time": "2021-07-02T22:44:55.812765Z"
    }
   },
   "outputs": [
    {
     "data": {
      "text/plain": [
       "<matplotlib.axes._subplots.AxesSubplot at 0x22fe63fb4a8>"
      ]
     },
     "execution_count": 7,
     "metadata": {},
     "output_type": "execute_result"
    },
    {
     "data": {
      "image/png": "[encoded data removed]",
      "text/plain": [
       "<Figure size 432x288 with 1 Axes>"
      ]
     },
     "metadata": {
      "needs_background": "light"
     },
     "output_type": "display_data"
    },
    {
     "data": {
      "image/png": "[encoded data removed]",
      "text/plain": [
       "<Figure size 432x288 with 1 Axes>"
      ]
     },
     "metadata": {
      "needs_background": "light"
     },
     "output_type": "display_data"
    }
   ],
   "source": [
    "# Time-plot\n",
    "df.plot(y=['S1', 'S2'])\n",
    "# Box-plot\n",
    "df.plot(y=['S1', 'S2'], kind='box')"
   ]
  },
  {
   "cell_type": "code",
   "execution_count": 10,
   "id": "5716bce6",
   "metadata": {
    "ExecuteTime": {
     "end_time": "2021-07-02T22:50:34.373390Z",
     "start_time": "2021-07-02T22:50:34.364198Z"
    }
   },
   "outputs": [
    {
     "data": {
      "text/plain": [
       "2.75"
      ]
     },
     "execution_count": 10,
     "metadata": {},
     "output_type": "execute_result"
    }
   ],
   "source": [
    "df['S1'].median()"
   ]
  },
  {
   "cell_type": "code",
   "execution_count": 11,
   "id": "e511fcde",
   "metadata": {
    "ExecuteTime": {
     "end_time": "2021-07-02T22:50:36.491631Z",
     "start_time": "2021-07-02T22:50:36.477059Z"
    }
   },
   "outputs": [
    {
     "data": {
      "text/plain": [
       "2.05"
      ]
     },
     "execution_count": 11,
     "metadata": {},
     "output_type": "execute_result"
    }
   ],
   "source": [
    "df['S2'].median()"
   ]
  },
  {
   "cell_type": "code",
   "execution_count": 12,
   "id": "598785b5",
   "metadata": {
    "ExecuteTime": {
     "end_time": "2021-07-02T22:50:38.878244Z",
     "start_time": "2021-07-02T22:50:38.589077Z"
    }
   },
   "outputs": [
    {
     "data": {
      "text/plain": [
       "<matplotlib.axes._subplots.AxesSubplot at 0x22fe63f66d8>"
      ]
     },
     "execution_count": 12,
     "metadata": {},
     "output_type": "execute_result"
    },
    {
     "data": {
      "image/png": "[encoded data removed]",
      "text/plain": [
       "<Figure size 432x288 with 1 Axes>"
      ]
     },
     "metadata": {
      "needs_background": "light"
     },
     "output_type": "display_data"
    }
   ],
   "source": [
    "# Box plot\n",
    "df.plot(kind='box', rot=90, color={'medians': 'red'}, medianprops={'linewidth': 3})"
   ]
  },
  {
   "cell_type": "code",
   "execution_count": 13,
   "id": "b517e229",
   "metadata": {
    "ExecuteTime": {
     "end_time": "2021-07-02T22:50:49.744625Z",
     "start_time": "2021-07-02T22:50:49.413666Z"
    }
   },
   "outputs": [
    {
     "data": {
      "text/plain": [
       "<matplotlib.axes._subplots.AxesSubplot at 0x22fe64b3278>"
      ]
     },
     "execution_count": 13,
     "metadata": {},
     "output_type": "execute_result"
    },
    {
     "data": {
      "image/png": "[encoded data removed]",
      "text/plain": [
       "<Figure size 432x288 with 1 Axes>"
      ]
     },
     "metadata": {
      "needs_background": "light"
     },
     "output_type": "display_data"
    }
   ],
   "source": [
    "# multi timeline\n",
    "df.plot(y=['S1', 'S2'])"
   ]
  },
  {
   "cell_type": "markdown",
   "id": "eadec4cd",
   "metadata": {},
   "source": [
    "scipy.stats"
   ]
  },
  {
   "cell_type": "code",
   "execution_count": 14,
   "id": "e142dfcd",
   "metadata": {
    "ExecuteTime": {
     "end_time": "2021-07-02T22:50:55.640174Z",
     "start_time": "2021-07-02T22:50:55.636388Z"
    }
   },
   "outputs": [],
   "source": [
    "from scipy import stats"
   ]
  },
  {
   "cell_type": "code",
   "execution_count": 15,
   "id": "bc4cdbd4",
   "metadata": {
    "ExecuteTime": {
     "end_time": "2021-07-02T22:50:59.546840Z",
     "start_time": "2021-07-02T22:50:59.533673Z"
    }
   },
   "outputs": [],
   "source": [
    "from scipy.stats import norm"
   ]
  },
  {
   "cell_type": "code",
   "execution_count": 16,
   "id": "284a2787",
   "metadata": {
    "ExecuteTime": {
     "end_time": "2021-07-02T22:51:02.246455Z",
     "start_time": "2021-07-02T22:51:02.228596Z"
    }
   },
   "outputs": [],
   "source": [
    "samples = np.random.normal(size=1000)"
   ]
  },
  {
   "cell_type": "code",
   "execution_count": 17,
   "id": "8566fe2d",
   "metadata": {
    "ExecuteTime": {
     "end_time": "2021-07-02T22:51:10.962298Z",
     "start_time": "2021-07-02T22:51:10.956601Z"
    }
   },
   "outputs": [],
   "source": [
    "bins = np.arange(-4, 5)"
   ]
  },
  {
   "cell_type": "code",
   "execution_count": 18,
   "id": "8eb35f96",
   "metadata": {
    "ExecuteTime": {
     "end_time": "2021-07-02T22:51:12.345679Z",
     "start_time": "2021-07-02T22:51:12.324922Z"
    }
   },
   "outputs": [
    {
     "data": {
      "text/plain": [
       "array([-4, -3, -2, -1,  0,  1,  2,  3,  4])"
      ]
     },
     "execution_count": 18,
     "metadata": {},
     "output_type": "execute_result"
    }
   ],
   "source": [
    "bins"
   ]
  },
  {
   "cell_type": "code",
   "execution_count": 19,
   "id": "563f4705",
   "metadata": {
    "ExecuteTime": {
     "end_time": "2021-07-02T22:51:13.616185Z",
     "start_time": "2021-07-02T22:51:13.596628Z"
    }
   },
   "outputs": [],
   "source": [
    "histogram = np.histogram(samples, bins=bins, density=True)[0]"
   ]
  },
  {
   "cell_type": "code",
   "execution_count": 20,
   "id": "93c6bb76",
   "metadata": {
    "ExecuteTime": {
     "end_time": "2021-07-02T22:51:16.120460Z",
     "start_time": "2021-07-02T22:51:16.116374Z"
    }
   },
   "outputs": [],
   "source": [
    "bins = 0.5*(bins[1:] + bins[:-1])"
   ]
  },
  {
   "cell_type": "code",
   "execution_count": 21,
   "id": "d20aa5a5",
   "metadata": {
    "ExecuteTime": {
     "end_time": "2021-07-02T22:51:17.405322Z",
     "start_time": "2021-07-02T22:51:17.389900Z"
    }
   },
   "outputs": [
    {
     "data": {
      "text/plain": [
       "array([-3.5, -2.5, -1.5, -0.5,  0.5,  1.5,  2.5,  3.5])"
      ]
     },
     "execution_count": 21,
     "metadata": {},
     "output_type": "execute_result"
    }
   ],
   "source": [
    "bins"
   ]
  },
  {
   "cell_type": "code",
   "execution_count": 22,
   "id": "67fdbe71",
   "metadata": {
    "ExecuteTime": {
     "end_time": "2021-07-02T22:51:18.612385Z",
     "start_time": "2021-07-02T22:51:18.605146Z"
    }
   },
   "outputs": [],
   "source": [
    "pdf = stats.norm.pdf(bins)  # norm is a distribution object"
   ]
  },
  {
   "cell_type": "code",
   "execution_count": 23,
   "id": "b848cfa7",
   "metadata": {
    "ExecuteTime": {
     "end_time": "2021-07-02T22:51:33.339011Z",
     "start_time": "2021-07-02T22:51:33.021964Z"
    }
   },
   "outputs": [
    {
     "data": {
      "text/plain": [
       "[<matplotlib.lines.Line2D at 0x22fe64a8240>]"
      ]
     },
     "execution_count": 23,
     "metadata": {},
     "output_type": "execute_result"
    },
    {
     "data": {
      "image/png": "[encoded data removed]",
      "text/plain": [
       "<Figure size 432x288 with 1 Axes>"
      ]
     },
     "metadata": {
      "needs_background": "light"
     },
     "output_type": "display_data"
    }
   ],
   "source": [
    "plt.plot(bins, histogram) \n",
    "plt.plot(bins, pdf) "
   ]
  },
  {
   "cell_type": "code",
   "execution_count": 24,
   "id": "385d32c8",
   "metadata": {
    "ExecuteTime": {
     "end_time": "2021-07-02T22:51:38.747603Z",
     "start_time": "2021-07-02T22:51:38.732770Z"
    }
   },
   "outputs": [
    {
     "data": {
      "text/plain": [
       "0.013759915462791724"
      ]
     },
     "execution_count": 24,
     "metadata": {},
     "output_type": "execute_result"
    }
   ],
   "source": [
    "np.mean(samples)"
   ]
  },
  {
   "cell_type": "code",
   "execution_count": 25,
   "id": "e4796861",
   "metadata": {
    "ExecuteTime": {
     "end_time": "2021-07-02T22:51:41.420677Z",
     "start_time": "2021-07-02T22:51:41.405581Z"
    }
   },
   "outputs": [
    {
     "data": {
      "text/plain": [
       "0.009598097795840099"
      ]
     },
     "execution_count": 25,
     "metadata": {},
     "output_type": "execute_result"
    }
   ],
   "source": [
    "np.median(samples)"
   ]
  },
  {
   "cell_type": "code",
   "execution_count": 28,
   "id": "cb7bb344",
   "metadata": {
    "ExecuteTime": {
     "end_time": "2021-07-02T22:53:22.317808Z",
     "start_time": "2021-07-02T22:53:22.310109Z"
    }
   },
   "outputs": [
    {
     "data": {
      "text/plain": [
       "0.009598097795840099"
      ]
     },
     "execution_count": 28,
     "metadata": {},
     "output_type": "execute_result"
    }
   ],
   "source": [
    "stats.scoreatpercentile(samples, 50) "
   ]
  },
  {
   "cell_type": "code",
   "execution_count": 29,
   "id": "4a39745a",
   "metadata": {
    "ExecuteTime": {
     "end_time": "2021-07-02T22:53:25.639099Z",
     "start_time": "2021-07-02T22:53:25.629076Z"
    }
   },
   "outputs": [
    {
     "data": {
      "text/plain": [
       "1.2789257518810517"
      ]
     },
     "execution_count": 29,
     "metadata": {},
     "output_type": "execute_result"
    }
   ],
   "source": [
    "stats.scoreatpercentile(samples, 90) "
   ]
  },
  {
   "cell_type": "markdown",
   "id": "5c3fd18b",
   "metadata": {},
   "source": [
    "Statistical tests"
   ]
  },
  {
   "cell_type": "code",
   "execution_count": 30,
   "id": "d6304f4a",
   "metadata": {
    "ExecuteTime": {
     "end_time": "2021-07-02T22:53:33.082307Z",
     "start_time": "2021-07-02T22:53:33.068105Z"
    }
   },
   "outputs": [],
   "source": [
    "a = np.random.normal(0, 1, size=100)"
   ]
  },
  {
   "cell_type": "code",
   "execution_count": 31,
   "id": "10bb3250",
   "metadata": {
    "ExecuteTime": {
     "end_time": "2021-07-02T22:53:37.420264Z",
     "start_time": "2021-07-02T22:53:37.412294Z"
    }
   },
   "outputs": [],
   "source": [
    "b = np.random.normal(1, 1, size=10)"
   ]
  },
  {
   "cell_type": "code",
   "execution_count": 32,
   "id": "5b5dfc48",
   "metadata": {
    "ExecuteTime": {
     "end_time": "2021-07-02T22:53:39.552171Z",
     "start_time": "2021-07-02T22:53:39.522754Z"
    }
   },
   "outputs": [
    {
     "data": {
      "text/plain": [
       "Ttest_indResult(statistic=-3.334650606501272, pvalue=0.001171072323738026)"
      ]
     },
     "execution_count": 32,
     "metadata": {},
     "output_type": "execute_result"
    }
   ],
   "source": [
    "stats.ttest_ind(a, b)"
   ]
  },
  {
   "cell_type": "code",
   "execution_count": 33,
   "id": "69170c87",
   "metadata": {
    "ExecuteTime": {
     "end_time": "2021-07-02T22:53:45.465874Z",
     "start_time": "2021-07-02T22:53:45.444472Z"
    }
   },
   "outputs": [
    {
     "data": {
      "text/plain": [
       "list"
      ]
     },
     "execution_count": 33,
     "metadata": {},
     "output_type": "execute_result"
    }
   ],
   "source": [
    "\n",
    "x = [11, 13, 8, 16, 23, 24, 30, 16, 9, 18]\n",
    "type(x)\n",
    "#x"
   ]
  },
  {
   "cell_type": "markdown",
   "id": "f28fb832",
   "metadata": {},
   "source": [
    "Descriptive statistics"
   ]
  },
  {
   "cell_type": "code",
   "execution_count": 34,
   "id": "40f813c1",
   "metadata": {
    "ExecuteTime": {
     "end_time": "2021-07-02T22:54:08.845466Z",
     "start_time": "2021-07-02T22:54:08.827687Z"
    }
   },
   "outputs": [
    {
     "name": "stdout",
     "output_type": "stream",
     "text": [
      "8\n",
      "30\n",
      "16.8\n",
      "45.36\n",
      "168\n",
      "16.0\n"
     ]
    }
   ],
   "source": [
    "# convert x to numpy array\n",
    "x = np.array(x)\n",
    "\n",
    "print(x.min())   # equivalent to np.min(x)\n",
    "# 8\n",
    "print(x.max())   # equivalent to np.max(x)\n",
    "# 30\n",
    "print(x.mean())  # equivalent to np.mean(x)\n",
    "# 16.8\n",
    "print(x.var())   # equivalent to np.var(x))\n",
    "# 45.36\n",
    "print(x.sum())\n",
    "# 168\n",
    "print(np.median(x))"
   ]
  },
  {
   "cell_type": "code",
   "execution_count": 36,
   "id": "34276157",
   "metadata": {
    "ExecuteTime": {
     "end_time": "2021-07-02T22:56:11.891591Z",
     "start_time": "2021-07-02T22:56:11.876739Z"
    }
   },
   "outputs": [
    {
     "data": {
      "text/plain": [
       "array(0.)"
      ]
     },
     "execution_count": 36,
     "metadata": {},
     "output_type": "execute_result"
    }
   ],
   "source": [
    "m, v, s, k = stats.t.stats(10, moments='mvsk')\n",
    "n, (smin, smax), sm, sv, ss, sk = stats.describe(x)\n",
    "m"
   ]
  },
  {
   "cell_type": "markdown",
   "id": "8e87f968",
   "metadata": {},
   "source": [
    "T-test and KS-test"
   ]
  },
  {
   "cell_type": "code",
   "execution_count": 37,
   "id": "a54b2029",
   "metadata": {
    "ExecuteTime": {
     "end_time": "2021-07-02T22:56:41.945818Z",
     "start_time": "2021-07-02T22:56:41.932381Z"
    }
   },
   "outputs": [
    {
     "name": "stdout",
     "output_type": "stream",
     "text": [
      "t-statistic =  7.483 pvalue = 0.0000\n"
     ]
    }
   ],
   "source": [
    "print('t-statistic = %6.3f pvalue = %6.4f' %  stats.ttest_1samp(x, m))"
   ]
  },
  {
   "cell_type": "code",
   "execution_count": 38,
   "id": "be4a66ca",
   "metadata": {
    "ExecuteTime": {
     "end_time": "2021-07-02T22:56:42.482856Z",
     "start_time": "2021-07-02T22:56:42.468183Z"
    }
   },
   "outputs": [
    {
     "name": "stdout",
     "output_type": "stream",
     "text": [
      "t-statistic =  7.483 pvalue = 0.0000\n"
     ]
    }
   ],
   "source": [
    "tt = (sm-m)/np.sqrt(sv/float(n))  # t-statistic for mean\n",
    "pval = stats.t.sf(np.abs(tt), n-1)*2  # two-sided pvalue = Prob(abs(t)>tt)\n",
    "print('t-statistic = %6.3f pvalue = %6.4f' % (tt, pval))"
   ]
  },
  {
   "cell_type": "code",
   "execution_count": 39,
   "id": "aa030a1b",
   "metadata": {
    "ExecuteTime": {
     "end_time": "2021-07-02T22:56:42.935241Z",
     "start_time": "2021-07-02T22:56:42.916148Z"
    }
   },
   "outputs": [
    {
     "name": "stdout",
     "output_type": "stream",
     "text": [
      "KS-statistic D =  1.000 pvalue = 0.0000\n"
     ]
    }
   ],
   "source": [
    "print('KS-statistic D = %6.3f pvalue = %6.4f' % stats.kstest(x, 't', (10,)))"
   ]
  },
  {
   "cell_type": "markdown",
   "id": "5e9896ea",
   "metadata": {},
   "source": [
    "Special tests for normal distributions"
   ]
  },
  {
   "cell_type": "code",
   "execution_count": 40,
   "id": "267a76aa",
   "metadata": {
    "ExecuteTime": {
     "end_time": "2021-07-02T22:56:44.334744Z",
     "start_time": "2021-07-02T22:56:44.322890Z"
    }
   },
   "outputs": [
    {
     "name": "stdout",
     "output_type": "stream",
     "text": [
      "normal skewtest teststat =  0.874 pvalue = 0.3819\n",
      "normal kurtosistest teststat = -0.163 pvalue = 0.8708\n"
     ]
    },
    {
     "name": "stderr",
     "output_type": "stream",
     "text": [
      "C:\\Users\\Azad\\miniconda3\\envs\\da35\\lib\\site-packages\\scipy\\stats\\stats.py:1394: UserWarning: kurtosistest only valid for n>=20 ... continuing anyway, n=10\n",
      "  \"anyway, n=%i\" % int(n))\n"
     ]
    }
   ],
   "source": [
    "print('normal skewtest teststat = %6.3f pvalue = %6.4f' % stats.skewtest(x))\n",
    "#normal skewtest teststat =  2.785 pvalue = 0.0054  # random\n",
    "print('normal kurtosistest teststat = %6.3f pvalue = %6.4f' % stats.kurtosistest(x))\n",
    "#normal kurtosistest teststat =  4.757 pvalue = 0.0000  # random"
   ]
  },
  {
   "cell_type": "code",
   "execution_count": 41,
   "id": "47b95dc8",
   "metadata": {
    "ExecuteTime": {
     "end_time": "2021-07-02T22:56:44.870194Z",
     "start_time": "2021-07-02T22:56:44.860650Z"
    }
   },
   "outputs": [
    {
     "name": "stdout",
     "output_type": "stream",
     "text": [
      "normaltest teststat =  0.791 pvalue = 0.6733\n"
     ]
    }
   ],
   "source": [
    "print('normaltest teststat = %6.3f pvalue = %6.4f' % stats.normaltest(x))"
   ]
  },
  {
   "cell_type": "markdown",
   "id": "fe114284",
   "metadata": {},
   "source": [
    "https://docs.scipy.org/doc/scipy/tutorial/stats.html"
   ]
  },
  {
   "cell_type": "markdown",
   "id": "3b1b7d71",
   "metadata": {},
   "source": [
    "Measures of Central Tendency"
   ]
  },
  {
   "cell_type": "code",
   "execution_count": 42,
   "id": "27eca20f",
   "metadata": {
    "ExecuteTime": {
     "end_time": "2021-07-02T22:57:08.697234Z",
     "start_time": "2021-07-02T22:57:08.674859Z"
    }
   },
   "outputs": [
    {
     "name": "stdout",
     "output_type": "stream",
     "text": [
      "16.8\n"
     ]
    },
    {
     "data": {
      "text/plain": [
       "16.8"
      ]
     },
     "execution_count": 42,
     "metadata": {},
     "output_type": "execute_result"
    }
   ],
   "source": [
    "print(x.mean())\n",
    "# or \n",
    "mean = sum(x) / len(x)\n",
    "mean"
   ]
  },
  {
   "cell_type": "code",
   "execution_count": 43,
   "id": "b204e019",
   "metadata": {
    "ExecuteTime": {
     "end_time": "2021-07-02T22:57:10.562564Z",
     "start_time": "2021-07-02T22:57:10.548353Z"
    }
   },
   "outputs": [
    {
     "data": {
      "text/plain": [
       "14.225214542387663"
      ]
     },
     "execution_count": 43,
     "metadata": {},
     "output_type": "execute_result"
    }
   ],
   "source": [
    "# Harmonic Mean\n",
    "hmean = len(x) / sum(1 / item for item in x)\n",
    "hmean"
   ]
  },
  {
   "cell_type": "code",
   "execution_count": 44,
   "id": "6c405469",
   "metadata": {
    "ExecuteTime": {
     "end_time": "2021-07-02T22:57:12.292697Z",
     "start_time": "2021-07-02T22:57:12.276207Z"
    }
   },
   "outputs": [
    {
     "data": {
      "text/plain": [
       "18.0"
      ]
     },
     "execution_count": 44,
     "metadata": {},
     "output_type": "execute_result"
    }
   ],
   "source": [
    "# Weighted Mean\n",
    "y = [1, 3, 5, 7, 9, 10, 12, 14, 15, 16]\n",
    "wmean = sum(y[i] * x[i] for i in range(len(x))) / sum(y)\n",
    "wmean"
   ]
  },
  {
   "cell_type": "code",
   "execution_count": 45,
   "id": "41191aec",
   "metadata": {
    "ExecuteTime": {
     "end_time": "2021-07-02T22:57:12.986200Z",
     "start_time": "2021-07-02T22:57:12.973822Z"
    }
   },
   "outputs": [
    {
     "data": {
      "text/plain": [
       "15.47120474800591"
      ]
     },
     "execution_count": 45,
     "metadata": {},
     "output_type": "execute_result"
    }
   ],
   "source": [
    "# Geometric Mean\n",
    "scipy.stats.gmean(x)"
   ]
  },
  {
   "cell_type": "code",
   "execution_count": 46,
   "id": "a33e5a50",
   "metadata": {
    "ExecuteTime": {
     "end_time": "2021-07-02T22:57:13.505576Z",
     "start_time": "2021-07-02T22:57:13.492569Z"
    }
   },
   "outputs": [
    {
     "data": {
      "text/plain": [
       "16.0"
      ]
     },
     "execution_count": 46,
     "metadata": {},
     "output_type": "execute_result"
    }
   ],
   "source": [
    "# Median\n",
    "statistics.median(x)"
   ]
  },
  {
   "cell_type": "code",
   "execution_count": 47,
   "id": "90f612f8",
   "metadata": {
    "ExecuteTime": {
     "end_time": "2021-07-02T22:57:13.853697Z",
     "start_time": "2021-07-02T22:57:13.837031Z"
    }
   },
   "outputs": [
    {
     "data": {
      "text/plain": [
       "16"
      ]
     },
     "execution_count": 47,
     "metadata": {},
     "output_type": "execute_result"
    }
   ],
   "source": [
    "# Mode\n",
    "statistics.mode(x)"
   ]
  },
  {
   "cell_type": "markdown",
   "id": "6aac62bb",
   "metadata": {
    "ExecuteTime": {
     "end_time": "2021-07-02T06:28:20.644835Z",
     "start_time": "2021-07-02T06:28:20.625887Z"
    }
   },
   "source": [
    "Measures of Variability"
   ]
  },
  {
   "cell_type": "code",
   "execution_count": 48,
   "id": "b6804615",
   "metadata": {
    "ExecuteTime": {
     "end_time": "2021-07-02T22:57:15.202372Z",
     "start_time": "2021-07-02T22:57:15.179560Z"
    }
   },
   "outputs": [
    {
     "data": {
      "text/plain": [
       "50"
      ]
     },
     "execution_count": 48,
     "metadata": {},
     "output_type": "execute_result"
    }
   ],
   "source": [
    "statistics.variance(x)"
   ]
  },
  {
   "cell_type": "code",
   "execution_count": 49,
   "id": "9442af0c",
   "metadata": {
    "ExecuteTime": {
     "end_time": "2021-07-02T22:57:16.342454Z",
     "start_time": "2021-07-02T22:57:16.324051Z"
    }
   },
   "outputs": [
    {
     "data": {
      "text/plain": [
       "7.0710678118654755"
      ]
     },
     "execution_count": 49,
     "metadata": {},
     "output_type": "execute_result"
    }
   ],
   "source": [
    "statistics.stdev(x)"
   ]
  },
  {
   "cell_type": "code",
   "execution_count": 50,
   "id": "5652f724",
   "metadata": {
    "ExecuteTime": {
     "end_time": "2021-07-02T22:57:16.917673Z",
     "start_time": "2021-07-02T22:57:16.900092Z"
    }
   },
   "outputs": [
    {
     "data": {
      "text/plain": [
       "0.5846768190780606"
      ]
     },
     "execution_count": 50,
     "metadata": {},
     "output_type": "execute_result"
    }
   ],
   "source": [
    "scipy.stats.skew(x, bias=False)"
   ]
  },
  {
   "cell_type": "code",
   "execution_count": 51,
   "id": "c9822ac9",
   "metadata": {
    "ExecuteTime": {
     "end_time": "2021-07-02T22:57:17.368422Z",
     "start_time": "2021-07-02T22:57:17.354838Z"
    }
   },
   "outputs": [
    {
     "data": {
      "text/plain": [
       "8.45"
      ]
     },
     "execution_count": 51,
     "metadata": {},
     "output_type": "execute_result"
    }
   ],
   "source": [
    "np.percentile(x, 5) # the 5th percentile"
   ]
  },
  {
   "cell_type": "code",
   "execution_count": 52,
   "id": "807abcf0",
   "metadata": {
    "ExecuteTime": {
     "end_time": "2021-07-02T22:57:18.229284Z",
     "start_time": "2021-07-02T22:57:18.214412Z"
    }
   },
   "outputs": [
    {
     "data": {
      "text/plain": [
       "27.299999999999994"
      ]
     },
     "execution_count": 52,
     "metadata": {},
     "output_type": "execute_result"
    }
   ],
   "source": [
    "np.percentile(x, 95) # the 95th percentile"
   ]
  },
  {
   "cell_type": "code",
   "execution_count": 53,
   "id": "ca70eeb3",
   "metadata": {
    "ExecuteTime": {
     "end_time": "2021-07-02T22:57:19.439317Z",
     "start_time": "2021-07-02T22:57:19.418752Z"
    }
   },
   "outputs": [
    {
     "data": {
      "text/plain": [
       "array([11.5 , 16.  , 21.75])"
      ]
     },
     "execution_count": 53,
     "metadata": {},
     "output_type": "execute_result"
    }
   ],
   "source": [
    "np.percentile(x, [25, 50, 75]) #25th, 50th and 75th percentile"
   ]
  },
  {
   "cell_type": "code",
   "execution_count": 54,
   "id": "5a2eec8a",
   "metadata": {
    "ExecuteTime": {
     "end_time": "2021-07-02T22:57:20.608113Z",
     "start_time": "2021-07-02T22:57:20.589035Z"
    }
   },
   "outputs": [
    {
     "data": {
      "text/plain": [
       "16.0"
      ]
     },
     "execution_count": 54,
     "metadata": {},
     "output_type": "execute_result"
    }
   ],
   "source": [
    "np.percentile(x, 50)"
   ]
  },
  {
   "cell_type": "markdown",
   "id": "22a050ad",
   "metadata": {},
   "source": [
    "Ranges"
   ]
  },
  {
   "cell_type": "code",
   "execution_count": 55,
   "id": "e2c5065c",
   "metadata": {
    "ExecuteTime": {
     "end_time": "2021-07-02T22:57:22.861585Z",
     "start_time": "2021-07-02T22:57:22.852524Z"
    }
   },
   "outputs": [
    {
     "data": {
      "text/plain": [
       "22"
      ]
     },
     "execution_count": 55,
     "metadata": {},
     "output_type": "execute_result"
    }
   ],
   "source": [
    "# difference between the maximum and minimum\n",
    "np.ptp(x)"
   ]
  },
  {
   "cell_type": "code",
   "execution_count": 56,
   "id": "0566a8c9",
   "metadata": {
    "ExecuteTime": {
     "end_time": "2021-07-02T22:57:23.177537Z",
     "start_time": "2021-07-02T22:57:23.155266Z"
    }
   },
   "outputs": [
    {
     "data": {
      "text/plain": [
       "22"
      ]
     },
     "execution_count": 56,
     "metadata": {},
     "output_type": "execute_result"
    }
   ],
   "source": [
    "max(x)-min(x)"
   ]
  },
  {
   "cell_type": "code",
   "execution_count": 57,
   "id": "3aa8ecb2",
   "metadata": {
    "ExecuteTime": {
     "end_time": "2021-07-02T22:57:23.449875Z",
     "start_time": "2021-07-02T22:57:23.434877Z"
    }
   },
   "outputs": [
    {
     "data": {
      "text/plain": [
       "8"
      ]
     },
     "execution_count": 57,
     "metadata": {},
     "output_type": "execute_result"
    }
   ],
   "source": [
    "min(x)"
   ]
  },
  {
   "cell_type": "code",
   "execution_count": 58,
   "id": "e830afa5",
   "metadata": {
    "ExecuteTime": {
     "end_time": "2021-07-02T22:57:23.725320Z",
     "start_time": "2021-07-02T22:57:23.710361Z"
    }
   },
   "outputs": [
    {
     "data": {
      "text/plain": [
       "DescribeResult(nobs=10, minmax=(8, 30), mean=16.8, variance=50.400000000000006, skewness=0.5846768190780606, kurtosis=-0.42418400340735873)"
      ]
     },
     "execution_count": 58,
     "metadata": {},
     "output_type": "execute_result"
    }
   ],
   "source": [
    "scipy.stats.describe(x, bias=False) # correcting the skewness and kurtosis for statistical bias"
   ]
  },
  {
   "cell_type": "code",
   "execution_count": 59,
   "id": "1fbd1edc",
   "metadata": {
    "ExecuteTime": {
     "end_time": "2021-07-02T22:57:23.992555Z",
     "start_time": "2021-07-02T22:57:23.972794Z"
    }
   },
   "outputs": [
    {
     "data": {
      "text/plain": [
       "DescribeResult(nobs=10, minmax=(8, 30), mean=16.8, variance=50.400000000000006, skewness=0.4930427849036961, kurtosis=-0.7853970120284051)"
      ]
     },
     "execution_count": 59,
     "metadata": {},
     "output_type": "execute_result"
    }
   ],
   "source": [
    "\n",
    "st = scipy.stats.describe(x)\n",
    "st"
   ]
  },
  {
   "cell_type": "code",
   "execution_count": 60,
   "id": "6dd5e4ca",
   "metadata": {
    "ExecuteTime": {
     "end_time": "2021-07-02T22:57:24.258825Z",
     "start_time": "2021-07-02T22:57:24.229437Z"
    }
   },
   "outputs": [
    {
     "data": {
      "text/plain": [
       "count     5.000000\n",
       "mean     22.800000\n",
       "std      18.539148\n",
       "min      10.000000\n",
       "25%      13.000000\n",
       "50%      14.000000\n",
       "75%      22.000000\n",
       "max      55.000000\n",
       "dtype: float64"
      ]
     },
     "execution_count": 60,
     "metadata": {},
     "output_type": "execute_result"
    }
   ],
   "source": [
    "x = pd.Series([22, 13, 14, 55, 10])\n",
    "x.describe() # Using pandas function"
   ]
  },
  {
   "cell_type": "markdown",
   "id": "d623df7f",
   "metadata": {},
   "source": [
    "Correalation"
   ]
  },
  {
   "cell_type": "code",
   "execution_count": 61,
   "id": "4310f896",
   "metadata": {
    "ExecuteTime": {
     "end_time": "2021-07-02T22:57:35.563554Z",
     "start_time": "2021-07-02T22:57:35.549025Z"
    }
   },
   "outputs": [],
   "source": [
    "x = [11, 13, 8, 16, 23, 24, 30, 16, 9, 18]\n",
    "y = [1, 3, 5, 7, 9, 10, 12, 14, 15, 16]"
   ]
  },
  {
   "cell_type": "markdown",
   "id": "6a13c51e",
   "metadata": {},
   "source": [
    "Covariance"
   ]
  },
  {
   "cell_type": "code",
   "execution_count": 62,
   "id": "53d8bad0",
   "metadata": {
    "ExecuteTime": {
     "end_time": "2021-07-02T22:57:37.080993Z",
     "start_time": "2021-07-02T22:57:37.051882Z"
    }
   },
   "outputs": [
    {
     "data": {
      "text/plain": [
       "12.266666666666667"
      ]
     },
     "execution_count": 62,
     "metadata": {},
     "output_type": "execute_result"
    }
   ],
   "source": [
    "cov_matrix = np.cov(x, y)\n",
    "cov_matrix\n",
    "cov_xy = cov_matrix[0, 1] # or [1, 0]\n",
    "cov_xy"
   ]
  },
  {
   "cell_type": "markdown",
   "id": "a4989530",
   "metadata": {
    "ExecuteTime": {
     "end_time": "2021-07-02T10:26:59.782284Z",
     "start_time": "2021-07-02T10:26:59.764037Z"
    }
   },
   "source": [
    "R"
   ]
  },
  {
   "cell_type": "code",
   "execution_count": 63,
   "id": "e277034d",
   "metadata": {
    "ExecuteTime": {
     "end_time": "2021-07-02T22:57:39.560820Z",
     "start_time": "2021-07-02T22:57:39.548905Z"
    }
   },
   "outputs": [
    {
     "data": {
      "text/plain": [
       "0.33487994802645404"
      ]
     },
     "execution_count": 63,
     "metadata": {},
     "output_type": "execute_result"
    }
   ],
   "source": [
    "std_x=statistics.stdev(x)\n",
    "std_y=statistics.stdev(y)\n",
    "cov_xy = 12.26666666666\n",
    "r = cov_xy / (std_x * std_y)\n",
    "r"
   ]
  },
  {
   "cell_type": "code",
   "execution_count": 64,
   "id": "4a4539ba",
   "metadata": {
    "ExecuteTime": {
     "end_time": "2021-07-02T22:57:40.236525Z",
     "start_time": "2021-07-02T22:57:40.215139Z"
    }
   },
   "outputs": [
    {
     "data": {
      "text/plain": [
       "0.3348799480266361"
      ]
     },
     "execution_count": 64,
     "metadata": {},
     "output_type": "execute_result"
    }
   ],
   "source": [
    "r, p = scipy.stats.pearsonr(x, y) # using stats function of scipy library \n",
    "r"
   ]
  },
  {
   "cell_type": "code",
   "execution_count": 65,
   "id": "a95861ad",
   "metadata": {
    "ExecuteTime": {
     "end_time": "2021-07-02T22:57:43.280201Z",
     "start_time": "2021-07-02T22:57:43.268448Z"
    }
   },
   "outputs": [
    {
     "data": {
      "text/plain": [
       "0.34422150133726226"
      ]
     },
     "execution_count": 65,
     "metadata": {},
     "output_type": "execute_result"
    }
   ],
   "source": [
    "p"
   ]
  },
  {
   "cell_type": "code",
   "execution_count": 66,
   "id": "bc66aca5",
   "metadata": {
    "ExecuteTime": {
     "end_time": "2021-07-02T22:57:44.209215Z",
     "start_time": "2021-07-02T22:57:44.197286Z"
    }
   },
   "outputs": [
    {
     "data": {
      "text/plain": [
       "0.33487994802663607"
      ]
     },
     "execution_count": 66,
     "metadata": {},
     "output_type": "execute_result"
    }
   ],
   "source": [
    "corr_matrix = np.corrcoef(x, y) # using corrcoef from numpy\n",
    "corr_matrix\n",
    "r = corr_matrix[0, 1]\n",
    "r"
   ]
  },
  {
   "cell_type": "code",
   "execution_count": 67,
   "id": "c7928ce2",
   "metadata": {
    "ExecuteTime": {
     "end_time": "2021-07-02T22:57:44.777701Z",
     "start_time": "2021-07-02T22:57:44.762596Z"
    }
   },
   "outputs": [
    {
     "data": {
      "text/plain": [
       "LinregressResult(slope=0.24338624338624337, intercept=5.111111111111111, rvalue=0.33487994802663607, pvalue=0.3442215013372624, stderr=0.24212131035281)"
      ]
     },
     "execution_count": 67,
     "metadata": {},
     "output_type": "execute_result"
    }
   ],
   "source": [
    "lg = scipy.stats.linregress(x, y)\n",
    "lg"
   ]
  },
  {
   "cell_type": "code",
   "execution_count": 68,
   "id": "f6fb17e2",
   "metadata": {
    "ExecuteTime": {
     "end_time": "2021-07-02T22:57:45.328506Z",
     "start_time": "2021-07-02T22:57:45.307941Z"
    }
   },
   "outputs": [
    {
     "data": {
      "text/plain": [
       "0.33487994802663607"
      ]
     },
     "execution_count": 68,
     "metadata": {},
     "output_type": "execute_result"
    }
   ],
   "source": [
    "r = lg.rvalue\n",
    "r"
   ]
  },
  {
   "cell_type": "code",
   "execution_count": 92,
   "id": "468b6f9d",
   "metadata": {
    "ExecuteTime": {
     "end_time": "2021-07-02T23:38:08.209521Z",
     "start_time": "2021-07-02T23:38:08.163474Z"
    }
   },
   "outputs": [
    {
     "data": {
      "text/html": [
       "<div>\n",
       "<style scoped>\n",
       "    .dataframe tbody tr th:only-of-type {\n",
       "        vertical-align: middle;\n",
       "    }\n",
       "\n",
       "    .dataframe tbody tr th {\n",
       "        vertical-align: top;\n",
       "    }\n",
       "\n",
       "    .dataframe thead th {\n",
       "        text-align: right;\n",
       "    }\n",
       "</style>\n",
       "<table border=\"1\" class=\"dataframe\">\n",
       "  <thead>\n",
       "    <tr style=\"text-align: right;\">\n",
       "      <th></th>\n",
       "      <th>Unnamed: 0</th>\n",
       "      <th>Gender</th>\n",
       "      <th>FSIQ</th>\n",
       "      <th>VIQ</th>\n",
       "      <th>PIQ</th>\n",
       "      <th>Weight</th>\n",
       "      <th>Height</th>\n",
       "      <th>MRI_Count</th>\n",
       "    </tr>\n",
       "  </thead>\n",
       "  <tbody>\n",
       "    <tr>\n",
       "      <th>0</th>\n",
       "      <td>1</td>\n",
       "      <td>Female</td>\n",
       "      <td>133</td>\n",
       "      <td>132</td>\n",
       "      <td>124</td>\n",
       "      <td>118</td>\n",
       "      <td>64.5</td>\n",
       "      <td>816932</td>\n",
       "    </tr>\n",
       "    <tr>\n",
       "      <th>1</th>\n",
       "      <td>2</td>\n",
       "      <td>Male</td>\n",
       "      <td>140</td>\n",
       "      <td>150</td>\n",
       "      <td>124</td>\n",
       "      <td>.</td>\n",
       "      <td>72.5</td>\n",
       "      <td>1001121</td>\n",
       "    </tr>\n",
       "    <tr>\n",
       "      <th>2</th>\n",
       "      <td>3</td>\n",
       "      <td>Male</td>\n",
       "      <td>139</td>\n",
       "      <td>123</td>\n",
       "      <td>150</td>\n",
       "      <td>143</td>\n",
       "      <td>73.3</td>\n",
       "      <td>1038437</td>\n",
       "    </tr>\n",
       "    <tr>\n",
       "      <th>3</th>\n",
       "      <td>4</td>\n",
       "      <td>Male</td>\n",
       "      <td>133</td>\n",
       "      <td>129</td>\n",
       "      <td>128</td>\n",
       "      <td>172</td>\n",
       "      <td>68.8</td>\n",
       "      <td>965353</td>\n",
       "    </tr>\n",
       "    <tr>\n",
       "      <th>4</th>\n",
       "      <td>5</td>\n",
       "      <td>Female</td>\n",
       "      <td>137</td>\n",
       "      <td>132</td>\n",
       "      <td>134</td>\n",
       "      <td>147</td>\n",
       "      <td>65</td>\n",
       "      <td>951545</td>\n",
       "    </tr>\n",
       "  </tbody>\n",
       "</table>\n",
       "</div>"
      ],
      "text/plain": [
       "   Unnamed: 0  Gender  FSIQ  VIQ  PIQ Weight Height  MRI_Count\n",
       "0           1  Female   133  132  124    118   64.5     816932\n",
       "1           2    Male   140  150  124      .   72.5    1001121\n",
       "2           3    Male   139  123  150    143   73.3    1038437\n",
       "3           4    Male   133  129  128    172   68.8     965353\n",
       "4           5  Female   137  132  134    147     65     951545"
      ]
     },
     "execution_count": 92,
     "metadata": {},
     "output_type": "execute_result"
    }
   ],
   "source": [
    "import pandas\n",
    "#data = pandas.read_csv('examples/brain_size.csv', sep=';', na_values=\".\")\n",
    "#url = https://gist.github.com/miguelpinia/3d589ad7c4365d2686a79bb7962bba04\n",
    "data = pd.read_csv (r'D:\\Python\\Python_for_Researchers\\brain_size.csv', encoding='unicode_escape')\n",
    "data.head() "
   ]
  },
  {
   "cell_type": "code",
   "execution_count": 70,
   "id": "885b40e6",
   "metadata": {
    "ExecuteTime": {
     "end_time": "2021-07-02T23:03:59.826876Z",
     "start_time": "2021-07-02T23:03:59.812380Z"
    }
   },
   "outputs": [],
   "source": [
    "import numpy as np\n",
    "t = np.linspace(-6, 6, 20)\n",
    "sin_t = np.sin(t)\n",
    "cos_t = np.cos(t)"
   ]
  },
  {
   "cell_type": "code",
   "execution_count": 71,
   "id": "6f0a55d3",
   "metadata": {
    "ExecuteTime": {
     "end_time": "2021-07-02T23:04:39.754835Z",
     "start_time": "2021-07-02T23:04:39.724259Z"
    }
   },
   "outputs": [
    {
     "data": {
      "text/html": [
       "<div>\n",
       "<style scoped>\n",
       "    .dataframe tbody tr th:only-of-type {\n",
       "        vertical-align: middle;\n",
       "    }\n",
       "\n",
       "    .dataframe tbody tr th {\n",
       "        vertical-align: top;\n",
       "    }\n",
       "\n",
       "    .dataframe thead th {\n",
       "        text-align: right;\n",
       "    }\n",
       "</style>\n",
       "<table border=\"1\" class=\"dataframe\">\n",
       "  <thead>\n",
       "    <tr style=\"text-align: right;\">\n",
       "      <th></th>\n",
       "      <th>cos</th>\n",
       "      <th>sin</th>\n",
       "      <th>t</th>\n",
       "    </tr>\n",
       "  </thead>\n",
       "  <tbody>\n",
       "    <tr>\n",
       "      <th>0</th>\n",
       "      <td>0.960170</td>\n",
       "      <td>0.279415</td>\n",
       "      <td>-6.000000</td>\n",
       "    </tr>\n",
       "    <tr>\n",
       "      <th>1</th>\n",
       "      <td>0.609977</td>\n",
       "      <td>0.792419</td>\n",
       "      <td>-5.368421</td>\n",
       "    </tr>\n",
       "    <tr>\n",
       "      <th>2</th>\n",
       "      <td>0.024451</td>\n",
       "      <td>0.999701</td>\n",
       "      <td>-4.736842</td>\n",
       "    </tr>\n",
       "    <tr>\n",
       "      <th>3</th>\n",
       "      <td>-0.570509</td>\n",
       "      <td>0.821291</td>\n",
       "      <td>-4.105263</td>\n",
       "    </tr>\n",
       "    <tr>\n",
       "      <th>4</th>\n",
       "      <td>-0.945363</td>\n",
       "      <td>0.326021</td>\n",
       "      <td>-3.473684</td>\n",
       "    </tr>\n",
       "    <tr>\n",
       "      <th>5</th>\n",
       "      <td>-0.955488</td>\n",
       "      <td>-0.295030</td>\n",
       "      <td>-2.842105</td>\n",
       "    </tr>\n",
       "    <tr>\n",
       "      <th>6</th>\n",
       "      <td>-0.596979</td>\n",
       "      <td>-0.802257</td>\n",
       "      <td>-2.210526</td>\n",
       "    </tr>\n",
       "    <tr>\n",
       "      <th>7</th>\n",
       "      <td>-0.008151</td>\n",
       "      <td>-0.999967</td>\n",
       "      <td>-1.578947</td>\n",
       "    </tr>\n",
       "    <tr>\n",
       "      <th>8</th>\n",
       "      <td>0.583822</td>\n",
       "      <td>-0.811882</td>\n",
       "      <td>-0.947368</td>\n",
       "    </tr>\n",
       "    <tr>\n",
       "      <th>9</th>\n",
       "      <td>0.950551</td>\n",
       "      <td>-0.310567</td>\n",
       "      <td>-0.315789</td>\n",
       "    </tr>\n",
       "    <tr>\n",
       "      <th>10</th>\n",
       "      <td>0.950551</td>\n",
       "      <td>0.310567</td>\n",
       "      <td>0.315789</td>\n",
       "    </tr>\n",
       "    <tr>\n",
       "      <th>11</th>\n",
       "      <td>0.583822</td>\n",
       "      <td>0.811882</td>\n",
       "      <td>0.947368</td>\n",
       "    </tr>\n",
       "    <tr>\n",
       "      <th>12</th>\n",
       "      <td>-0.008151</td>\n",
       "      <td>0.999967</td>\n",
       "      <td>1.578947</td>\n",
       "    </tr>\n",
       "    <tr>\n",
       "      <th>13</th>\n",
       "      <td>-0.596979</td>\n",
       "      <td>0.802257</td>\n",
       "      <td>2.210526</td>\n",
       "    </tr>\n",
       "    <tr>\n",
       "      <th>14</th>\n",
       "      <td>-0.955488</td>\n",
       "      <td>0.295030</td>\n",
       "      <td>2.842105</td>\n",
       "    </tr>\n",
       "    <tr>\n",
       "      <th>15</th>\n",
       "      <td>-0.945363</td>\n",
       "      <td>-0.326021</td>\n",
       "      <td>3.473684</td>\n",
       "    </tr>\n",
       "    <tr>\n",
       "      <th>16</th>\n",
       "      <td>-0.570509</td>\n",
       "      <td>-0.821291</td>\n",
       "      <td>4.105263</td>\n",
       "    </tr>\n",
       "    <tr>\n",
       "      <th>17</th>\n",
       "      <td>0.024451</td>\n",
       "      <td>-0.999701</td>\n",
       "      <td>4.736842</td>\n",
       "    </tr>\n",
       "    <tr>\n",
       "      <th>18</th>\n",
       "      <td>0.609977</td>\n",
       "      <td>-0.792419</td>\n",
       "      <td>5.368421</td>\n",
       "    </tr>\n",
       "    <tr>\n",
       "      <th>19</th>\n",
       "      <td>0.960170</td>\n",
       "      <td>-0.279415</td>\n",
       "      <td>6.000000</td>\n",
       "    </tr>\n",
       "  </tbody>\n",
       "</table>\n",
       "</div>"
      ],
      "text/plain": [
       "         cos       sin         t\n",
       "0   0.960170  0.279415 -6.000000\n",
       "1   0.609977  0.792419 -5.368421\n",
       "2   0.024451  0.999701 -4.736842\n",
       "3  -0.570509  0.821291 -4.105263\n",
       "4  -0.945363  0.326021 -3.473684\n",
       "5  -0.955488 -0.295030 -2.842105\n",
       "6  -0.596979 -0.802257 -2.210526\n",
       "7  -0.008151 -0.999967 -1.578947\n",
       "8   0.583822 -0.811882 -0.947368\n",
       "9   0.950551 -0.310567 -0.315789\n",
       "10  0.950551  0.310567  0.315789\n",
       "11  0.583822  0.811882  0.947368\n",
       "12 -0.008151  0.999967  1.578947\n",
       "13 -0.596979  0.802257  2.210526\n",
       "14 -0.955488  0.295030  2.842105\n",
       "15 -0.945363 -0.326021  3.473684\n",
       "16 -0.570509 -0.821291  4.105263\n",
       "17  0.024451 -0.999701  4.736842\n",
       "18  0.609977 -0.792419  5.368421\n",
       "19  0.960170 -0.279415  6.000000"
      ]
     },
     "execution_count": 71,
     "metadata": {},
     "output_type": "execute_result"
    }
   ],
   "source": [
    "pandas.DataFrame({'t': t, 'sin': sin_t, 'cos': cos_t})"
   ]
  },
  {
   "cell_type": "markdown",
   "id": "de5c90cf",
   "metadata": {},
   "source": [
    "Manipulating data"
   ]
  },
  {
   "cell_type": "markdown",
   "id": "b3e48571",
   "metadata": {
    "ExecuteTime": {
     "end_time": "2021-07-02T23:08:15.238999Z",
     "start_time": "2021-07-02T23:08:15.188922Z"
    }
   },
   "source": [
    "Hypothesis testing: comparing two groups"
   ]
  },
  {
   "cell_type": "code",
   "execution_count": 75,
   "id": "f5d26785",
   "metadata": {
    "ExecuteTime": {
     "end_time": "2021-07-02T23:09:45.467833Z",
     "start_time": "2021-07-02T23:09:45.453037Z"
    }
   },
   "outputs": [],
   "source": [
    "from scipy import stats"
   ]
  },
  {
   "cell_type": "markdown",
   "id": "777bae8d",
   "metadata": {},
   "source": [
    "Student’s t-test: the simplest statistical test"
   ]
  },
  {
   "cell_type": "code",
   "execution_count": 78,
   "id": "5bc4f245",
   "metadata": {
    "ExecuteTime": {
     "end_time": "2021-07-02T23:14:10.359588Z",
     "start_time": "2021-07-02T23:14:10.336304Z"
    }
   },
   "outputs": [
    {
     "data": {
      "text/plain": [
       "Ttest_1sampResult(statistic=7.483314773547883, pvalue=3.75801166724644e-05)"
      ]
     },
     "execution_count": 78,
     "metadata": {},
     "output_type": "execute_result"
    }
   ],
   "source": [
    "stats.ttest_1samp(x, 0)    # one sample"
   ]
  },
  {
   "cell_type": "code",
   "execution_count": 79,
   "id": "004d983f",
   "metadata": {
    "ExecuteTime": {
     "end_time": "2021-07-02T23:17:20.550224Z",
     "start_time": "2021-07-02T23:17:20.534029Z"
    }
   },
   "outputs": [
    {
     "data": {
      "text/plain": [
       "Ttest_indResult(statistic=2.738454755684762, pvalue=0.01350066550703028)"
      ]
     },
     "execution_count": 79,
     "metadata": {},
     "output_type": "execute_result"
    }
   ],
   "source": [
    "stats.ttest_ind(x, y)   # two sample"
   ]
  },
  {
   "cell_type": "code",
   "execution_count": 80,
   "id": "d388029e",
   "metadata": {
    "ExecuteTime": {
     "end_time": "2021-07-02T23:22:34.703456Z",
     "start_time": "2021-07-02T23:22:34.695563Z"
    }
   },
   "outputs": [],
   "source": [
    "df = pandas.DataFrame({'x': x, 'y': y})"
   ]
  },
  {
   "cell_type": "code",
   "execution_count": 81,
   "id": "33637fd1",
   "metadata": {
    "ExecuteTime": {
     "end_time": "2021-07-02T23:23:46.932362Z",
     "start_time": "2021-07-02T23:23:46.419960Z"
    }
   },
   "outputs": [],
   "source": [
    "from statsmodels.formula.api import ols\n",
    "model = ols(\"y ~ x\", df).fit()"
   ]
  },
  {
   "cell_type": "code",
   "execution_count": 82,
   "id": "fc8bebc4",
   "metadata": {
    "ExecuteTime": {
     "end_time": "2021-07-02T23:24:03.134433Z",
     "start_time": "2021-07-02T23:24:03.084438Z"
    }
   },
   "outputs": [
    {
     "name": "stdout",
     "output_type": "stream",
     "text": [
      "                            OLS Regression Results                            \n",
      "==============================================================================\n",
      "Dep. Variable:                      y   R-squared:                       0.112\n",
      "Model:                            OLS   Adj. R-squared:                  0.001\n",
      "Method:                 Least Squares   F-statistic:                     1.010\n",
      "Date:                Sat, 03 Jul 2021   Prob (F-statistic):              0.344\n",
      "Time:                        02:24:03   Log-Likelihood:                -29.477\n",
      "No. Observations:                  10   AIC:                             62.95\n",
      "Df Residuals:                       8   BIC:                             63.56\n",
      "Df Model:                           1                                         \n",
      "Covariance Type:            nonrobust                                         \n",
      "==============================================================================\n",
      "                 coef    std err          t      P>|t|      [0.025      0.975]\n",
      "------------------------------------------------------------------------------\n",
      "Intercept      5.1111      4.382      1.166      0.277      -4.995      15.217\n",
      "x              0.2434      0.242      1.005      0.344      -0.315       0.802\n",
      "==============================================================================\n",
      "Omnibus:                        0.834   Durbin-Watson:                   0.242\n",
      "Prob(Omnibus):                  0.659   Jarque-Bera (JB):                0.693\n",
      "Skew:                           0.381   Prob(JB):                        0.707\n",
      "Kurtosis:                       1.960   Cond. No.                         48.8\n",
      "==============================================================================\n",
      "\n",
      "Warnings:\n",
      "[1] Standard Errors assume that the covariance matrix of the errors is correctly specified.\n"
     ]
    },
    {
     "name": "stderr",
     "output_type": "stream",
     "text": [
      "C:\\Users\\Azad\\miniconda3\\envs\\da35\\lib\\site-packages\\scipy\\stats\\stats.py:1394: UserWarning: kurtosistest only valid for n>=20 ... continuing anyway, n=10\n",
      "  \"anyway, n=%i\" % int(n))\n"
     ]
    }
   ],
   "source": [
    "print(model.summary())"
   ]
  },
  {
   "cell_type": "markdown",
   "id": "e65711af",
   "metadata": {},
   "source": [
    "Multiple variables"
   ]
  },
  {
   "cell_type": "code",
   "execution_count": 93,
   "id": "ad132023",
   "metadata": {
    "ExecuteTime": {
     "end_time": "2021-07-02T23:38:54.439819Z",
     "start_time": "2021-07-02T23:38:54.390066Z"
    }
   },
   "outputs": [
    {
     "data": {
      "text/html": [
       "<div>\n",
       "<style scoped>\n",
       "    .dataframe tbody tr th:only-of-type {\n",
       "        vertical-align: middle;\n",
       "    }\n",
       "\n",
       "    .dataframe tbody tr th {\n",
       "        vertical-align: top;\n",
       "    }\n",
       "\n",
       "    .dataframe thead th {\n",
       "        text-align: right;\n",
       "    }\n",
       "</style>\n",
       "<table border=\"1\" class=\"dataframe\">\n",
       "  <thead>\n",
       "    <tr style=\"text-align: right;\">\n",
       "      <th></th>\n",
       "      <th>Unnamed: 0</th>\n",
       "      <th>Gender</th>\n",
       "      <th>FSIQ</th>\n",
       "      <th>VIQ</th>\n",
       "      <th>PIQ</th>\n",
       "      <th>Weight</th>\n",
       "      <th>Height</th>\n",
       "      <th>MRI_Count</th>\n",
       "    </tr>\n",
       "  </thead>\n",
       "  <tbody>\n",
       "    <tr>\n",
       "      <th>0</th>\n",
       "      <td>1</td>\n",
       "      <td>Female</td>\n",
       "      <td>133</td>\n",
       "      <td>132</td>\n",
       "      <td>124</td>\n",
       "      <td>118</td>\n",
       "      <td>64.5</td>\n",
       "      <td>816932</td>\n",
       "    </tr>\n",
       "    <tr>\n",
       "      <th>1</th>\n",
       "      <td>2</td>\n",
       "      <td>Male</td>\n",
       "      <td>140</td>\n",
       "      <td>150</td>\n",
       "      <td>124</td>\n",
       "      <td>.</td>\n",
       "      <td>72.5</td>\n",
       "      <td>1001121</td>\n",
       "    </tr>\n",
       "    <tr>\n",
       "      <th>2</th>\n",
       "      <td>3</td>\n",
       "      <td>Male</td>\n",
       "      <td>139</td>\n",
       "      <td>123</td>\n",
       "      <td>150</td>\n",
       "      <td>143</td>\n",
       "      <td>73.3</td>\n",
       "      <td>1038437</td>\n",
       "    </tr>\n",
       "    <tr>\n",
       "      <th>3</th>\n",
       "      <td>4</td>\n",
       "      <td>Male</td>\n",
       "      <td>133</td>\n",
       "      <td>129</td>\n",
       "      <td>128</td>\n",
       "      <td>172</td>\n",
       "      <td>68.8</td>\n",
       "      <td>965353</td>\n",
       "    </tr>\n",
       "    <tr>\n",
       "      <th>4</th>\n",
       "      <td>5</td>\n",
       "      <td>Female</td>\n",
       "      <td>137</td>\n",
       "      <td>132</td>\n",
       "      <td>134</td>\n",
       "      <td>147</td>\n",
       "      <td>65</td>\n",
       "      <td>951545</td>\n",
       "    </tr>\n",
       "  </tbody>\n",
       "</table>\n",
       "</div>"
      ],
      "text/plain": [
       "   Unnamed: 0  Gender  FSIQ  VIQ  PIQ Weight Height  MRI_Count\n",
       "0           1  Female   133  132  124    118   64.5     816932\n",
       "1           2    Male   140  150  124      .   72.5    1001121\n",
       "2           3    Male   139  123  150    143   73.3    1038437\n",
       "3           4    Male   133  129  128    172   68.8     965353\n",
       "4           5  Female   137  132  134    147     65     951545"
      ]
     },
     "execution_count": 93,
     "metadata": {},
     "output_type": "execute_result"
    }
   ],
   "source": [
    "import pandas\n",
    "data = pd.read_csv (r'D:\\Python\\Python_for_Researchers\\brain_size.csv', encoding='unicode_escape')\n",
    "data.head() "
   ]
  },
  {
   "cell_type": "code",
   "execution_count": 94,
   "id": "23e84d04",
   "metadata": {
    "ExecuteTime": {
     "end_time": "2021-07-02T23:38:57.595806Z",
     "start_time": "2021-07-02T23:38:57.561965Z"
    }
   },
   "outputs": [
    {
     "name": "stdout",
     "output_type": "stream",
     "text": [
      "                            OLS Regression Results                            \n",
      "==============================================================================\n",
      "Dep. Variable:                    VIQ   R-squared:                       0.015\n",
      "Model:                            OLS   Adj. R-squared:                 -0.010\n",
      "Method:                 Least Squares   F-statistic:                    0.5969\n",
      "Date:                Sat, 03 Jul 2021   Prob (F-statistic):              0.445\n",
      "Time:                        02:38:57   Log-Likelihood:                -182.42\n",
      "No. Observations:                  40   AIC:                             368.8\n",
      "Df Residuals:                      38   BIC:                             372.2\n",
      "Df Model:                           1                                         \n",
      "Covariance Type:            nonrobust                                         \n",
      "==================================================================================\n",
      "                     coef    std err          t      P>|t|      [0.025      0.975]\n",
      "----------------------------------------------------------------------------------\n",
      "Intercept        109.4500      5.308     20.619      0.000      98.704     120.196\n",
      "Gender[T.Male]     5.8000      7.507      0.773      0.445      -9.397      20.997\n",
      "==============================================================================\n",
      "Omnibus:                       26.188   Durbin-Watson:                   1.709\n",
      "Prob(Omnibus):                  0.000   Jarque-Bera (JB):                3.703\n",
      "Skew:                           0.010   Prob(JB):                        0.157\n",
      "Kurtosis:                       1.510   Cond. No.                         2.62\n",
      "==============================================================================\n",
      "\n",
      "Warnings:\n",
      "[1] Standard Errors assume that the covariance matrix of the errors is correctly specified.\n"
     ]
    }
   ],
   "source": [
    "model = ols(\"VIQ ~ Gender + 1\", data).fit()\n",
    "print(model.summary()) "
   ]
  },
  {
   "cell_type": "code",
   "execution_count": 95,
   "id": "75437eff",
   "metadata": {
    "ExecuteTime": {
     "end_time": "2021-07-02T23:40:01.524434Z",
     "start_time": "2021-07-02T23:40:01.486171Z"
    }
   },
   "outputs": [
    {
     "name": "stdout",
     "output_type": "stream",
     "text": [
      "                            OLS Regression Results                            \n",
      "==============================================================================\n",
      "Dep. Variable:                      x   R-squared:                       0.112\n",
      "Model:                            OLS   Adj. R-squared:                  0.001\n",
      "Method:                 Least Squares   F-statistic:                     1.010\n",
      "Date:                Sat, 03 Jul 2021   Prob (F-statistic):              0.344\n",
      "Time:                        02:40:01   Log-Likelihood:                -32.668\n",
      "No. Observations:                  10   AIC:                             69.34\n",
      "Df Residuals:                       8   BIC:                             69.94\n",
      "Df Model:                           1                                         \n",
      "Covariance Type:            nonrobust                                         \n",
      "==============================================================================\n",
      "                 coef    std err          t      P>|t|      [0.025      0.975]\n",
      "------------------------------------------------------------------------------\n",
      "Intercept     12.5609      4.777      2.630      0.030       1.546      23.576\n",
      "y              0.4608      0.458      1.005      0.344      -0.596       1.518\n",
      "==============================================================================\n",
      "Omnibus:                        0.271   Durbin-Watson:                   1.243\n",
      "Prob(Omnibus):                  0.873   Jarque-Bera (JB):                0.313\n",
      "Skew:                           0.290   Prob(JB):                        0.855\n",
      "Kurtosis:                       2.357   Cond. No.                         22.3\n",
      "==============================================================================\n",
      "\n",
      "Warnings:\n",
      "[1] Standard Errors assume that the covariance matrix of the errors is correctly specified.\n"
     ]
    },
    {
     "name": "stderr",
     "output_type": "stream",
     "text": [
      "C:\\Users\\Azad\\miniconda3\\envs\\da35\\lib\\site-packages\\scipy\\stats\\stats.py:1394: UserWarning: kurtosistest only valid for n>=20 ... continuing anyway, n=10\n",
      "  \"anyway, n=%i\" % int(n))\n"
     ]
    }
   ],
   "source": [
    "model = ols(\"x ~ y + 1\", df).fit()\n",
    "print(model.summary()) "
   ]
  },
  {
   "cell_type": "markdown",
   "id": "5642d994",
   "metadata": {},
   "source": [
    "Multiple Regression: including multiple factors"
   ]
  },
  {
   "cell_type": "code",
   "execution_count": 102,
   "id": "7dfd770b",
   "metadata": {
    "ExecuteTime": {
     "end_time": "2021-07-02T23:49:47.282984Z",
     "start_time": "2021-07-02T23:49:47.265998Z"
    }
   },
   "outputs": [
    {
     "data": {
      "text/plain": [
       "[2, 4, 6, 8, 10, 11, 13, 15, 17, 19]"
      ]
     },
     "execution_count": 102,
     "metadata": {},
     "output_type": "execute_result"
    }
   ],
   "source": [
    "b = [2, 4, 6, 8, 10, 11, 13, 15, 17, 19]\n",
    "b"
   ]
  },
  {
   "cell_type": "code",
   "execution_count": 115,
   "id": "067ff3f7",
   "metadata": {
    "ExecuteTime": {
     "end_time": "2021-07-02T23:59:02.332448Z",
     "start_time": "2021-07-02T23:59:02.300215Z"
    }
   },
   "outputs": [
    {
     "name": "stdout",
     "output_type": "stream",
     "text": [
      "                            OLS Regression Results                            \n",
      "==============================================================================\n",
      "Dep. Variable:                      x   R-squared:                       0.291\n",
      "Model:                            OLS   Adj. R-squared:                  0.089\n",
      "Method:                 Least Squares   F-statistic:                     1.439\n",
      "Date:                Sat, 03 Jul 2021   Prob (F-statistic):              0.300\n",
      "Time:                        02:59:02   Log-Likelihood:                -31.541\n",
      "No. Observations:                  10   AIC:                             69.08\n",
      "Df Residuals:                       7   BIC:                             69.99\n",
      "Df Model:                           2                                         \n",
      "Covariance Type:            nonrobust                                         \n",
      "==============================================================================\n",
      "                 coef    std err          t      P>|t|      [0.025      0.975]\n",
      "------------------------------------------------------------------------------\n",
      "Intercept     15.7079      5.139      3.057      0.018       3.556      27.859\n",
      "y              6.5891      4.627      1.424      0.197      -4.351      17.530\n",
      "b             -5.6693      4.261     -1.331      0.225     -15.745       4.406\n",
      "==============================================================================\n",
      "Omnibus:                        0.842   Durbin-Watson:                   1.785\n",
      "Prob(Omnibus):                  0.656   Jarque-Bera (JB):                0.626\n",
      "Skew:                          -0.206   Prob(JB):                        0.731\n",
      "Kurtosis:                       1.845   Cond. No.                         50.9\n",
      "==============================================================================\n",
      "\n",
      "Warnings:\n",
      "[1] Standard Errors assume that the covariance matrix of the errors is correctly specified.\n"
     ]
    },
    {
     "name": "stderr",
     "output_type": "stream",
     "text": [
      "C:\\Users\\Azad\\miniconda3\\envs\\da35\\lib\\site-packages\\scipy\\stats\\stats.py:1394: UserWarning: kurtosistest only valid for n>=20 ... continuing anyway, n=10\n",
      "  \"anyway, n=%i\" % int(n))\n"
     ]
    }
   ],
   "source": [
    "model = ols('x ~ y + b', df).fit()\n",
    "print(model.summary())"
   ]
  },
  {
   "cell_type": "code",
   "execution_count": 105,
   "id": "9531dde3",
   "metadata": {
    "ExecuteTime": {
     "end_time": "2021-07-02T23:50:34.736101Z",
     "start_time": "2021-07-02T23:50:34.700021Z"
    }
   },
   "outputs": [
    {
     "data": {
      "text/html": [
       "<div>\n",
       "<style scoped>\n",
       "    .dataframe tbody tr th:only-of-type {\n",
       "        vertical-align: middle;\n",
       "    }\n",
       "\n",
       "    .dataframe tbody tr th {\n",
       "        vertical-align: top;\n",
       "    }\n",
       "\n",
       "    .dataframe thead th {\n",
       "        text-align: right;\n",
       "    }\n",
       "</style>\n",
       "<table border=\"1\" class=\"dataframe\">\n",
       "  <thead>\n",
       "    <tr style=\"text-align: right;\">\n",
       "      <th></th>\n",
       "      <th>x</th>\n",
       "      <th>y</th>\n",
       "    </tr>\n",
       "  </thead>\n",
       "  <tbody>\n",
       "    <tr>\n",
       "      <th>0</th>\n",
       "      <td>11</td>\n",
       "      <td>1</td>\n",
       "    </tr>\n",
       "    <tr>\n",
       "      <th>1</th>\n",
       "      <td>13</td>\n",
       "      <td>3</td>\n",
       "    </tr>\n",
       "    <tr>\n",
       "      <th>2</th>\n",
       "      <td>8</td>\n",
       "      <td>5</td>\n",
       "    </tr>\n",
       "    <tr>\n",
       "      <th>3</th>\n",
       "      <td>16</td>\n",
       "      <td>7</td>\n",
       "    </tr>\n",
       "    <tr>\n",
       "      <th>4</th>\n",
       "      <td>23</td>\n",
       "      <td>9</td>\n",
       "    </tr>\n",
       "    <tr>\n",
       "      <th>5</th>\n",
       "      <td>24</td>\n",
       "      <td>10</td>\n",
       "    </tr>\n",
       "    <tr>\n",
       "      <th>6</th>\n",
       "      <td>30</td>\n",
       "      <td>12</td>\n",
       "    </tr>\n",
       "    <tr>\n",
       "      <th>7</th>\n",
       "      <td>16</td>\n",
       "      <td>14</td>\n",
       "    </tr>\n",
       "    <tr>\n",
       "      <th>8</th>\n",
       "      <td>9</td>\n",
       "      <td>15</td>\n",
       "    </tr>\n",
       "    <tr>\n",
       "      <th>9</th>\n",
       "      <td>18</td>\n",
       "      <td>16</td>\n",
       "    </tr>\n",
       "  </tbody>\n",
       "</table>\n",
       "</div>"
      ],
      "text/plain": [
       "    x   y\n",
       "0  11   1\n",
       "1  13   3\n",
       "2   8   5\n",
       "3  16   7\n",
       "4  23   9\n",
       "5  24  10\n",
       "6  30  12\n",
       "7  16  14\n",
       "8   9  15\n",
       "9  18  16"
      ]
     },
     "execution_count": 105,
     "metadata": {},
     "output_type": "execute_result"
    }
   ],
   "source": [
    "df"
   ]
  },
  {
   "cell_type": "code",
   "execution_count": 110,
   "id": "5e43c305",
   "metadata": {
    "ExecuteTime": {
     "end_time": "2021-07-02T23:52:50.385995Z",
     "start_time": "2021-07-02T23:52:50.355060Z"
    }
   },
   "outputs": [
    {
     "data": {
      "text/html": [
       "<div>\n",
       "<style scoped>\n",
       "    .dataframe tbody tr th:only-of-type {\n",
       "        vertical-align: middle;\n",
       "    }\n",
       "\n",
       "    .dataframe tbody tr th {\n",
       "        vertical-align: top;\n",
       "    }\n",
       "\n",
       "    .dataframe thead th {\n",
       "        text-align: right;\n",
       "    }\n",
       "</style>\n",
       "<table border=\"1\" class=\"dataframe\">\n",
       "  <thead>\n",
       "    <tr style=\"text-align: right;\">\n",
       "      <th></th>\n",
       "      <th>0</th>\n",
       "      <th>1</th>\n",
       "      <th>2</th>\n",
       "      <th>3</th>\n",
       "      <th>4</th>\n",
       "      <th>5</th>\n",
       "      <th>6</th>\n",
       "      <th>7</th>\n",
       "      <th>8</th>\n",
       "      <th>9</th>\n",
       "    </tr>\n",
       "  </thead>\n",
       "  <tbody>\n",
       "    <tr>\n",
       "      <th>0</th>\n",
       "      <td>11</td>\n",
       "      <td>13</td>\n",
       "      <td>8</td>\n",
       "      <td>16</td>\n",
       "      <td>23</td>\n",
       "      <td>24</td>\n",
       "      <td>30</td>\n",
       "      <td>16</td>\n",
       "      <td>9</td>\n",
       "      <td>18</td>\n",
       "    </tr>\n",
       "    <tr>\n",
       "      <th>1</th>\n",
       "      <td>1</td>\n",
       "      <td>3</td>\n",
       "      <td>5</td>\n",
       "      <td>7</td>\n",
       "      <td>9</td>\n",
       "      <td>10</td>\n",
       "      <td>12</td>\n",
       "      <td>14</td>\n",
       "      <td>15</td>\n",
       "      <td>16</td>\n",
       "    </tr>\n",
       "    <tr>\n",
       "      <th>2</th>\n",
       "      <td>2</td>\n",
       "      <td>4</td>\n",
       "      <td>6</td>\n",
       "      <td>8</td>\n",
       "      <td>10</td>\n",
       "      <td>11</td>\n",
       "      <td>13</td>\n",
       "      <td>15</td>\n",
       "      <td>17</td>\n",
       "      <td>19</td>\n",
       "    </tr>\n",
       "  </tbody>\n",
       "</table>\n",
       "</div>"
      ],
      "text/plain": [
       "    0   1  2   3   4   5   6   7   8   9\n",
       "0  11  13  8  16  23  24  30  16   9  18\n",
       "1   1   3  5   7   9  10  12  14  15  16\n",
       "2   2   4  6   8  10  11  13  15  17  19"
      ]
     },
     "execution_count": 110,
     "metadata": {},
     "output_type": "execute_result"
    }
   ],
   "source": [
    "df"
   ]
  },
  {
   "cell_type": "code",
   "execution_count": 112,
   "id": "15377934",
   "metadata": {
    "ExecuteTime": {
     "end_time": "2021-07-02T23:55:01.719583Z",
     "start_time": "2021-07-02T23:55:01.693639Z"
    }
   },
   "outputs": [],
   "source": [
    "df = pandas.DataFrame({'x': x, 'y': y, 'b':b})"
   ]
  },
  {
   "cell_type": "code",
   "execution_count": 113,
   "id": "8cd8704d",
   "metadata": {
    "ExecuteTime": {
     "end_time": "2021-07-02T23:55:06.709486Z",
     "start_time": "2021-07-02T23:55:06.683396Z"
    }
   },
   "outputs": [
    {
     "data": {
      "text/html": [
       "<div>\n",
       "<style scoped>\n",
       "    .dataframe tbody tr th:only-of-type {\n",
       "        vertical-align: middle;\n",
       "    }\n",
       "\n",
       "    .dataframe tbody tr th {\n",
       "        vertical-align: top;\n",
       "    }\n",
       "\n",
       "    .dataframe thead th {\n",
       "        text-align: right;\n",
       "    }\n",
       "</style>\n",
       "<table border=\"1\" class=\"dataframe\">\n",
       "  <thead>\n",
       "    <tr style=\"text-align: right;\">\n",
       "      <th></th>\n",
       "      <th>b</th>\n",
       "      <th>x</th>\n",
       "      <th>y</th>\n",
       "    </tr>\n",
       "  </thead>\n",
       "  <tbody>\n",
       "    <tr>\n",
       "      <th>0</th>\n",
       "      <td>2</td>\n",
       "      <td>11</td>\n",
       "      <td>1</td>\n",
       "    </tr>\n",
       "    <tr>\n",
       "      <th>1</th>\n",
       "      <td>4</td>\n",
       "      <td>13</td>\n",
       "      <td>3</td>\n",
       "    </tr>\n",
       "    <tr>\n",
       "      <th>2</th>\n",
       "      <td>6</td>\n",
       "      <td>8</td>\n",
       "      <td>5</td>\n",
       "    </tr>\n",
       "    <tr>\n",
       "      <th>3</th>\n",
       "      <td>8</td>\n",
       "      <td>16</td>\n",
       "      <td>7</td>\n",
       "    </tr>\n",
       "    <tr>\n",
       "      <th>4</th>\n",
       "      <td>10</td>\n",
       "      <td>23</td>\n",
       "      <td>9</td>\n",
       "    </tr>\n",
       "    <tr>\n",
       "      <th>5</th>\n",
       "      <td>11</td>\n",
       "      <td>24</td>\n",
       "      <td>10</td>\n",
       "    </tr>\n",
       "    <tr>\n",
       "      <th>6</th>\n",
       "      <td>13</td>\n",
       "      <td>30</td>\n",
       "      <td>12</td>\n",
       "    </tr>\n",
       "    <tr>\n",
       "      <th>7</th>\n",
       "      <td>15</td>\n",
       "      <td>16</td>\n",
       "      <td>14</td>\n",
       "    </tr>\n",
       "    <tr>\n",
       "      <th>8</th>\n",
       "      <td>17</td>\n",
       "      <td>9</td>\n",
       "      <td>15</td>\n",
       "    </tr>\n",
       "    <tr>\n",
       "      <th>9</th>\n",
       "      <td>19</td>\n",
       "      <td>18</td>\n",
       "      <td>16</td>\n",
       "    </tr>\n",
       "  </tbody>\n",
       "</table>\n",
       "</div>"
      ],
      "text/plain": [
       "    b   x   y\n",
       "0   2  11   1\n",
       "1   4  13   3\n",
       "2   6   8   5\n",
       "3   8  16   7\n",
       "4  10  23   9\n",
       "5  11  24  10\n",
       "6  13  30  12\n",
       "7  15  16  14\n",
       "8  17   9  15\n",
       "9  19  18  16"
      ]
     },
     "execution_count": 113,
     "metadata": {},
     "output_type": "execute_result"
    }
   ],
   "source": [
    "df"
   ]
  },
  {
   "cell_type": "code",
   "execution_count": 114,
   "id": "93b6e895",
   "metadata": {
    "ExecuteTime": {
     "end_time": "2021-07-02T23:55:47.445779Z",
     "start_time": "2021-07-02T23:55:47.402829Z"
    }
   },
   "outputs": [
    {
     "name": "stdout",
     "output_type": "stream",
     "text": [
      "                            OLS Regression Results                            \n",
      "==============================================================================\n",
      "Dep. Variable:                      x   R-squared:                       0.291\n",
      "Model:                            OLS   Adj. R-squared:                  0.089\n",
      "Method:                 Least Squares   F-statistic:                     1.439\n",
      "Date:                Sat, 03 Jul 2021   Prob (F-statistic):              0.300\n",
      "Time:                        02:55:47   Log-Likelihood:                -31.541\n",
      "No. Observations:                  10   AIC:                             69.08\n",
      "Df Residuals:                       7   BIC:                             69.99\n",
      "Df Model:                           2                                         \n",
      "Covariance Type:            nonrobust                                         \n",
      "==============================================================================\n",
      "                 coef    std err          t      P>|t|      [0.025      0.975]\n",
      "------------------------------------------------------------------------------\n",
      "Intercept     15.7079      5.139      3.057      0.018       3.556      27.859\n",
      "y              6.5891      4.627      1.424      0.197      -4.351      17.530\n",
      "b             -5.6693      4.261     -1.331      0.225     -15.745       4.406\n",
      "==============================================================================\n",
      "Omnibus:                        0.842   Durbin-Watson:                   1.785\n",
      "Prob(Omnibus):                  0.656   Jarque-Bera (JB):                0.626\n",
      "Skew:                          -0.206   Prob(JB):                        0.731\n",
      "Kurtosis:                       1.845   Cond. No.                         50.9\n",
      "==============================================================================\n",
      "\n",
      "Warnings:\n",
      "[1] Standard Errors assume that the covariance matrix of the errors is correctly specified.\n"
     ]
    },
    {
     "name": "stderr",
     "output_type": "stream",
     "text": [
      "C:\\Users\\Azad\\miniconda3\\envs\\da35\\lib\\site-packages\\scipy\\stats\\stats.py:1394: UserWarning: kurtosistest only valid for n>=20 ... continuing anyway, n=10\n",
      "  \"anyway, n=%i\" % int(n))\n"
     ]
    }
   ],
   "source": [
    "model = ols('x ~ y + b', df).fit()\n",
    "print(model.summary())"
   ]
  },
  {
   "cell_type": "markdown",
   "id": "c150bcbd",
   "metadata": {},
   "source": [
    "analysis of variance (ANOVA)"
   ]
  },
  {
   "cell_type": "code",
   "execution_count": 119,
   "id": "d984fe0f",
   "metadata": {
    "ExecuteTime": {
     "end_time": "2021-07-03T00:06:59.771100Z",
     "start_time": "2021-07-03T00:06:59.756913Z"
    }
   },
   "outputs": [
    {
     "name": "stdout",
     "output_type": "stream",
     "text": [
      "4.572409552116431 0.019488978036786876\n"
     ]
    }
   ],
   "source": [
    "fvalue, pvalue = stats.f_oneway(df['x'], df['y'], df['b'])\n",
    "print(fvalue, pvalue)"
   ]
  },
  {
   "cell_type": "code",
   "execution_count": 122,
   "id": "ec159b1e",
   "metadata": {
    "ExecuteTime": {
     "end_time": "2021-07-03T00:12:02.653893Z",
     "start_time": "2021-07-03T00:12:01.804123Z"
    }
   },
   "outputs": [
    {
     "name": "stderr",
     "output_type": "stream",
     "text": [
      "C:\\Users\\Azad\\miniconda3\\envs\\da35\\lib\\site-packages\\scipy\\stats\\stats.py:1713: FutureWarning: Using a non-tuple sequence for multidimensional indexing is deprecated; use `arr[tuple(seq)]` instead of `arr[seq]`. In the future this will be interpreted as an array index, `arr[np.array(seq)]`, which will result either in an error or a different result.\n",
      "  return np.add.reduce(sorted[indexer] * weights, axis=axis) / sumval\n"
     ]
    },
    {
     "data": {
      "text/plain": [
       "<seaborn.axisgrid.FacetGrid at 0x22fe815a908>"
      ]
     },
     "execution_count": 122,
     "metadata": {},
     "output_type": "execute_result"
    },
    {
     "data": {
      "image/png": "[encoded data removed]",
      "text/plain": [
       "<Figure size 360x360 with 1 Axes>"
      ]
     },
     "metadata": {
      "needs_background": "light"
     },
     "output_type": "display_data"
    }
   ],
   "source": [
    "import seaborn as sns\n",
    "sns.lmplot(y='y', x='x', data=df) "
   ]
  },
  {
   "cell_type": "code",
   "execution_count": 127,
   "id": "c0e1db7f",
   "metadata": {
    "ExecuteTime": {
     "end_time": "2021-07-03T00:22:24.764194Z",
     "start_time": "2021-07-03T00:22:24.739321Z"
    }
   },
   "outputs": [
    {
     "ename": "AttributeError",
     "evalue": "'numpy.float64' object has no attribute 'ols'",
     "output_type": "error",
     "traceback": [
      "\u001b[1;31m---------------------------------------------------------------------------\u001b[0m",
      "\u001b[1;31mAttributeError\u001b[0m                            Traceback (most recent call last)",
      "\u001b[1;32m<ipython-input-127-1be583ffe799>\u001b[0m in \u001b[0;36m<module>\u001b[1;34m\u001b[0m\n\u001b[1;32m----> 1\u001b[1;33m result = sm.ols(formula='VIQ ~ Height + WEIGHT * Gender',\n\u001b[0m\u001b[0;32m      2\u001b[0m                 data=data).fit()    \n\u001b[0;32m      3\u001b[0m \u001b[0mprint\u001b[0m\u001b[1;33m(\u001b[0m\u001b[0mresult\u001b[0m\u001b[1;33m.\u001b[0m\u001b[0msummary\u001b[0m\u001b[1;33m(\u001b[0m\u001b[1;33m)\u001b[0m\u001b[1;33m)\u001b[0m\u001b[1;33m\u001b[0m\u001b[0m\n",
      "\u001b[1;31mAttributeError\u001b[0m: 'numpy.float64' object has no attribute 'ols'"
     ]
    }
   ],
   "source": [
    "result = sm.ols(formula='VIQ ~ Height + WEIGHT * Gender',\n",
    "                data=data).fit()    \n",
    "print(result.summary()) "
   ]
  },
  {
   "cell_type": "code",
   "execution_count": 124,
   "id": "a2d48de1",
   "metadata": {
    "ExecuteTime": {
     "end_time": "2021-07-03T00:20:19.869836Z",
     "start_time": "2021-07-03T00:20:19.855152Z"
    }
   },
   "outputs": [],
   "source": [
    "data = data.reindex(columns=['VIQ', 'Height','Weight', 'Gender'])"
   ]
  },
  {
   "cell_type": "code",
   "execution_count": 126,
   "id": "15039c70",
   "metadata": {
    "ExecuteTime": {
     "end_time": "2021-07-03T00:22:20.212653Z",
     "start_time": "2021-07-03T00:22:20.185912Z"
    }
   },
   "outputs": [],
   "source": [
    "data = data.select_dtypes(include='number').iloc[0]"
   ]
  },
  {
   "cell_type": "code",
   "execution_count": null,
   "id": "2fee470f",
   "metadata": {},
   "outputs": [],
   "source": []
  }
 ],
 "metadata": {
  "kernelspec": {
   "display_name": "base",
   "language": "python",
   "name": "python3"
  },
  "language_info": {
   "codemirror_mode": {
    "name": "ipython",
    "version": 3
   },
   "file_extension": ".py",
   "mimetype": "text/x-python",
   "name": "python",
   "nbconvert_exporter": "python",
   "pygments_lexer": "ipython3",
   "version": "3.12.3"
  },
  "nbTranslate": {
   "displayLangs": [
    "*"
   ],
   "hotkey": "alt-t",
   "langInMainMenu": true,
   "sourceLang": "en",
   "targetLang": "fr",
   "useGoogleTranslate": true
  },
  "toc": {
   "base_numbering": 1,
   "nav_menu": {},
   "number_sections": true,
   "sideBar": true,
   "skip_h1_title": false,
   "title_cell": "Table of Contents",
   "title_sidebar": "Contents",
   "toc_cell": false,
   "toc_position": {},
   "toc_section_display": true,
   "toc_window_display": false
  }
 },
 "nbformat": 4,
 "nbformat_minor": 5
}
