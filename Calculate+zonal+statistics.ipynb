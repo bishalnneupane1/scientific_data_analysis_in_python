{
 "cells": [
  {
   "cell_type": "markdown",
   "id": "3f234746",
   "metadata": {},
   "source": [
    "## Calculate zonal statistics"
   ]
  },
  {
   "cell_type": "code",
   "execution_count": 1,
   "id": "74c5be1c",
   "metadata": {},
   "outputs": [],
   "source": [
    "# !pip install pylst"
   ]
  },
  {
   "cell_type": "code",
   "execution_count": 4,
   "id": "ee25deaa",
   "metadata": {},
   "outputs": [
    {
     "name": "stdout",
     "output_type": "stream",
     "text": [
      "           min          max        mean  count           sum         std  \\\n",
      "0   570.126497   891.480540  705.639011     25  17640.975275   77.616836   \n",
      "1   449.742165   588.421410  510.073449     50  25503.672470   27.253217   \n",
      "2   587.660254   658.368834  624.216387     20  12484.327749   19.519127   \n",
      "3   608.641314   910.196597  738.317669     14  10336.447364   97.925378   \n",
      "4   398.513525   457.029100  425.690514     15   6385.357705   17.395609   \n",
      "5   608.664993   714.159577  652.230495     18  11740.148917   34.970658   \n",
      "6   613.293314   901.283111  770.615863     24  18494.780705   66.820995   \n",
      "7   592.117045   766.800998  659.432127     29  19123.531693   52.528974   \n",
      "8   700.172624   938.975904  847.124726     25  21178.118162   69.078319   \n",
      "9   561.991878   691.102420  625.327032     20  12506.540645   37.027437   \n",
      "10  527.236587  1098.047192  687.208471     73  50166.218412  116.693671   \n",
      "11  669.223002   816.895637  762.750096      8   6102.000771   48.462143   \n",
      "12  578.354959   729.836970  619.233866     22  13623.145056   38.346342   \n",
      "13  439.766954   513.534178  475.296495     27  12833.005363   20.432466   \n",
      "14  483.832247   641.091120  566.574944     44  24929.297552   37.232289   \n",
      "15  597.840839   740.643343  640.697591     23  14736.044598   33.549232   \n",
      "16  452.829611   549.718785  507.462482     23  11671.637096   29.192712   \n",
      "17  568.782341  1075.109611  749.722940     13   9746.398221  176.544191   \n",
      "18  560.423439   750.504940  615.386540     18  11076.957723   47.786273   \n",
      "19  466.945813   648.308315  544.007316     61  33184.446246   43.703863   \n",
      "20  354.030697   443.204616  397.381646     40  15895.265838   23.111836   \n",
      "\n",
      "        median    majority    minority  unique       range  nodata  \n",
      "0   706.141407  570.126497  570.126497      25  321.354043     0.0  \n",
      "1   507.245828  449.742165  449.742165      50  138.679245     0.0  \n",
      "2   622.183668  587.660254  587.660254      20   70.708580     0.0  \n",
      "3   713.602770  608.641314  608.641314      14  301.555283     0.0  \n",
      "4   424.091425  398.513525  409.026006      13   58.515575     0.0  \n",
      "5   640.563970  608.664993  608.664993      18  105.494584     0.0  \n",
      "6   768.385547  613.293314  613.293314      24  287.989797     0.0  \n",
      "7   641.682273  592.117045  592.117045      29  174.683952     0.0  \n",
      "8   864.046423  700.172624  700.172624      25  238.803280     0.0  \n",
      "9   617.858291  561.991878  561.991878      20  129.110542     0.0  \n",
      "10  653.867223  527.236587  527.236587      73  570.810605     0.0  \n",
      "11  777.725000  669.223002  669.223002       8  147.672635     0.0  \n",
      "12  612.382293  578.354959  578.354959      22  151.482011     0.0  \n",
      "13  475.452663  439.766954  439.766954      27   73.767224     0.0  \n",
      "14  565.112225  483.832247  483.832247      44  157.258873     0.0  \n",
      "15  636.677190  597.840839  597.840839      23  142.802504     0.0  \n",
      "16  513.255302  452.829611  468.503959      22   96.889174     0.0  \n",
      "17  666.225571  568.782341  568.782341      13  506.327270     0.0  \n",
      "18  598.989008  560.423439  560.423439      18  190.081501     0.0  \n",
      "19  539.351628  466.945813  466.945813      61  181.362502     0.0  \n",
      "20  395.994733  376.720264  354.030697      38   89.173918     0.0  \n"
     ]
    }
   ],
   "source": [
    "# Import the calculate_zs function from the zonstat module in the pylst.spatial_analysis package\n",
    "from pylst.spatial_analysis.zonstat import calculate_zs\n",
    "\n",
    "# Define the path to the shapefile containing the administrative boundaries (in this case, Erbil_Admi_3.shp)\n",
    "shapefile_path = \"D:\\\\GeoAI_Master_2024\\\\GeoAI_Master_2024_Lecture2_Geospatial_Data_in_Python\\data\\\\Erbil_Shapefile\\\\Erbil_Admi_3.shp\"\n",
    "\n",
    "# Define the path to the raster file (in this case, Chirps_Erbil.tif) for spatial analysis\n",
    "raster_path = \"D:\\\\GeoAI_Master_2024\\\\GeoAI_Master_2024_Lecture2_Geospatial_Data_in_Python\\data\\\\Chirps_Erbil.tif\"\n",
    "\n",
    "# Call the calculate_zs function, passing the shapefile and raster paths as arguments\n",
    "# This function performs zone-based statistics, calculating values for each zone in the shapefile from the corresponding raster data\n",
    "df = calculate_zs(shapefile_path, raster_path)\n",
    "\n",
    "# Print the resulting DataFrame that contains the calculated zone-based statistics\n",
    "print(df)\n",
    "\n",
    "# Save Result of \n",
    "df.to_csv(\"zonal_stats_chirps.csv\", index=True)"
   ]
  },
  {
   "cell_type": "code",
   "execution_count": null,
   "id": "66d23671",
   "metadata": {},
   "outputs": [],
   "source": []
  }
 ],
 "metadata": {
  "kernelspec": {
   "display_name": "Python 3 (ipykernel)",
   "language": "python",
   "name": "python3"
  },
  "language_info": {
   "codemirror_mode": {
    "name": "ipython",
    "version": 3
   },
   "file_extension": ".py",
   "mimetype": "text/x-python",
   "name": "python",
   "nbconvert_exporter": "python",
   "pygments_lexer": "ipython3",
   "version": "3.9.18"
  }
 },
 "nbformat": 4,
 "nbformat_minor": 5
}
