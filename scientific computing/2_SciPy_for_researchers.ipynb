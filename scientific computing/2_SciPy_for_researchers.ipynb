{
 "cells": [
  {
   "cell_type": "code",
   "execution_count": 1,
   "metadata": {
    "ExecuteTime": {
     "end_time": "2021-06-28T12:13:53.315885Z",
     "start_time": "2021-06-28T12:13:51.313676Z"
    }
   },
   "outputs": [
    {
     "name": "stdout",
     "output_type": "stream",
     "text": [
      "TtestResult(statistic=-0.3018249086781556, pvalue=0.763102320411954, df=198.0)\n"
     ]
    }
   ],
   "source": [
    "import numpy as np\n",
    "from scipy.stats import ttest_ind\n",
    "\n",
    "v1 = np.random.normal(size=100)\n",
    "v2 = np.random.normal(size=100)\n",
    "\n",
    "res = ttest_ind(v1, v2)\n",
    "\n",
    "print(res)"
   ]
  },
  {
   "cell_type": "code",
   "execution_count": 2,
   "metadata": {
    "ExecuteTime": {
     "end_time": "2021-06-28T12:17:37.765159Z",
     "start_time": "2021-06-28T12:17:37.757178Z"
    }
   },
   "outputs": [
    {
     "name": "stdout",
     "output_type": "stream",
     "text": [
      "DescribeResult(nobs=50, minmax=(-2.1110852826395994, 2.1382185070419863), mean=-0.01412507191806748, variance=0.857480937086798, skewness=-0.02242461823932727, kurtosis=-0.5642088084961014)\n"
     ]
    }
   ],
   "source": [
    "import numpy as np\n",
    "from scipy.stats import describe\n",
    "\n",
    "x = np.random.normal(size=50)\n",
    "res = describe(x)\n",
    "\n",
    "print(res)"
   ]
  },
  {
   "cell_type": "code",
   "execution_count": 3,
   "metadata": {
    "ExecuteTime": {
     "end_time": "2021-06-28T12:24:37.172933Z",
     "start_time": "2021-06-28T12:24:37.148996Z"
    }
   },
   "outputs": [
    {
     "name": "stdout",
     "output_type": "stream",
     "text": [
      "TtestResult(statistic=0.30000000000000027, pvalue=0.7718244816824985, df=8.0)\n"
     ]
    }
   ],
   "source": [
    "from scipy.stats import ttest_ind\n",
    "x = ([1, 3, 5, 7, 11])\n",
    "y = ([2, 4, 6, 8, 4])\n",
    "res = ttest_ind(x, y)\n",
    "print(res)"
   ]
  },
  {
   "cell_type": "code",
   "execution_count": 4,
   "metadata": {
    "ExecuteTime": {
     "end_time": "2021-06-28T12:36:09.057525Z",
     "start_time": "2021-06-28T12:36:09.051540Z"
    }
   },
   "outputs": [],
   "source": [
    "from scipy.interpolate import interp1d"
   ]
  },
  {
   "cell_type": "code",
   "execution_count": 5,
   "metadata": {
    "ExecuteTime": {
     "end_time": "2021-06-28T12:37:31.746494Z",
     "start_time": "2021-06-28T12:37:31.741508Z"
    }
   },
   "outputs": [],
   "source": [
    "import numpy as np\n",
    "x = np.array([0., 1.,5., 8., 10.])\n",
    "y = np.array([0., 4., 1., 6., 8.])"
   ]
  },
  {
   "cell_type": "code",
   "execution_count": 6,
   "metadata": {
    "ExecuteTime": {
     "end_time": "2021-06-28T12:39:08.356143Z",
     "start_time": "2021-06-28T12:39:08.340188Z"
    }
   },
   "outputs": [
    {
     "data": {
      "text/plain": [
       "array(2.5)"
      ]
     },
     "execution_count": 6,
     "metadata": {},
     "output_type": "execute_result"
    }
   ],
   "source": [
    "f = interp1d(x, y)\n",
    "f(3)"
   ]
  },
  {
   "cell_type": "code",
   "execution_count": 7,
   "metadata": {
    "ExecuteTime": {
     "end_time": "2021-06-28T12:49:38.562738Z",
     "start_time": "2021-06-28T12:49:35.594257Z"
    }
   },
   "outputs": [],
   "source": [
    "%matplotlib inline\n",
    "\n",
    "import matplotlib.pyplot as plt\n",
    "import statsmodels.api as sm\n",
    "from statsmodels.multivariate.pca import PCA\n",
    "\n",
    "plt.rc(\"figure\", figsize=(16,8))\n",
    "plt.rc(\"font\", size=14)"
   ]
  },
  {
   "cell_type": "code",
   "execution_count": 9,
   "metadata": {
    "ExecuteTime": {
     "end_time": "2021-06-28T12:49:54.831192Z",
     "start_time": "2021-06-28T12:49:54.754398Z"
    }
   },
   "outputs": [
    {
     "data": {
      "text/html": [
       "<div>\n",
       "<style scoped>\n",
       "    .dataframe tbody tr th:only-of-type {\n",
       "        vertical-align: middle;\n",
       "    }\n",
       "\n",
       "    .dataframe tbody tr th {\n",
       "        vertical-align: top;\n",
       "    }\n",
       "\n",
       "    .dataframe thead th {\n",
       "        text-align: right;\n",
       "    }\n",
       "</style>\n",
       "<table border=\"1\" class=\"dataframe\">\n",
       "  <thead>\n",
       "    <tr style=\"text-align: right;\">\n",
       "      <th></th>\n",
       "      <th>Country Name</th>\n",
       "      <th>Country Code</th>\n",
       "      <th>Indicator Name</th>\n",
       "      <th>Indicator Code</th>\n",
       "      <th>1960</th>\n",
       "      <th>1961</th>\n",
       "      <th>1962</th>\n",
       "      <th>1963</th>\n",
       "      <th>1964</th>\n",
       "      <th>1965</th>\n",
       "      <th>...</th>\n",
       "      <th>2004</th>\n",
       "      <th>2005</th>\n",
       "      <th>2006</th>\n",
       "      <th>2007</th>\n",
       "      <th>2008</th>\n",
       "      <th>2009</th>\n",
       "      <th>2010</th>\n",
       "      <th>2011</th>\n",
       "      <th>2012</th>\n",
       "      <th>2013</th>\n",
       "    </tr>\n",
       "  </thead>\n",
       "  <tbody>\n",
       "    <tr>\n",
       "      <th>0</th>\n",
       "      <td>Aruba</td>\n",
       "      <td>ABW</td>\n",
       "      <td>Fertility rate, total (births per woman)</td>\n",
       "      <td>SP.DYN.TFRT.IN</td>\n",
       "      <td>4.820</td>\n",
       "      <td>4.655</td>\n",
       "      <td>4.471</td>\n",
       "      <td>4.271</td>\n",
       "      <td>4.059</td>\n",
       "      <td>3.842</td>\n",
       "      <td>...</td>\n",
       "      <td>1.786</td>\n",
       "      <td>1.769</td>\n",
       "      <td>1.754</td>\n",
       "      <td>1.739</td>\n",
       "      <td>1.726</td>\n",
       "      <td>1.713</td>\n",
       "      <td>1.701</td>\n",
       "      <td>1.690</td>\n",
       "      <td>NaN</td>\n",
       "      <td>NaN</td>\n",
       "    </tr>\n",
       "    <tr>\n",
       "      <th>1</th>\n",
       "      <td>Andorra</td>\n",
       "      <td>AND</td>\n",
       "      <td>Fertility rate, total (births per woman)</td>\n",
       "      <td>SP.DYN.TFRT.IN</td>\n",
       "      <td>NaN</td>\n",
       "      <td>NaN</td>\n",
       "      <td>NaN</td>\n",
       "      <td>NaN</td>\n",
       "      <td>NaN</td>\n",
       "      <td>NaN</td>\n",
       "      <td>...</td>\n",
       "      <td>NaN</td>\n",
       "      <td>NaN</td>\n",
       "      <td>1.240</td>\n",
       "      <td>1.180</td>\n",
       "      <td>1.250</td>\n",
       "      <td>1.190</td>\n",
       "      <td>1.220</td>\n",
       "      <td>NaN</td>\n",
       "      <td>NaN</td>\n",
       "      <td>NaN</td>\n",
       "    </tr>\n",
       "    <tr>\n",
       "      <th>2</th>\n",
       "      <td>Afghanistan</td>\n",
       "      <td>AFG</td>\n",
       "      <td>Fertility rate, total (births per woman)</td>\n",
       "      <td>SP.DYN.TFRT.IN</td>\n",
       "      <td>7.671</td>\n",
       "      <td>7.671</td>\n",
       "      <td>7.671</td>\n",
       "      <td>7.671</td>\n",
       "      <td>7.671</td>\n",
       "      <td>7.671</td>\n",
       "      <td>...</td>\n",
       "      <td>7.136</td>\n",
       "      <td>6.930</td>\n",
       "      <td>6.702</td>\n",
       "      <td>6.456</td>\n",
       "      <td>6.196</td>\n",
       "      <td>5.928</td>\n",
       "      <td>5.659</td>\n",
       "      <td>5.395</td>\n",
       "      <td>NaN</td>\n",
       "      <td>NaN</td>\n",
       "    </tr>\n",
       "    <tr>\n",
       "      <th>3</th>\n",
       "      <td>Angola</td>\n",
       "      <td>AGO</td>\n",
       "      <td>Fertility rate, total (births per woman)</td>\n",
       "      <td>SP.DYN.TFRT.IN</td>\n",
       "      <td>7.316</td>\n",
       "      <td>7.354</td>\n",
       "      <td>7.385</td>\n",
       "      <td>7.410</td>\n",
       "      <td>7.425</td>\n",
       "      <td>7.430</td>\n",
       "      <td>...</td>\n",
       "      <td>6.704</td>\n",
       "      <td>6.657</td>\n",
       "      <td>6.598</td>\n",
       "      <td>6.523</td>\n",
       "      <td>6.434</td>\n",
       "      <td>6.331</td>\n",
       "      <td>6.218</td>\n",
       "      <td>6.099</td>\n",
       "      <td>NaN</td>\n",
       "      <td>NaN</td>\n",
       "    </tr>\n",
       "    <tr>\n",
       "      <th>4</th>\n",
       "      <td>Albania</td>\n",
       "      <td>ALB</td>\n",
       "      <td>Fertility rate, total (births per woman)</td>\n",
       "      <td>SP.DYN.TFRT.IN</td>\n",
       "      <td>6.186</td>\n",
       "      <td>6.076</td>\n",
       "      <td>5.956</td>\n",
       "      <td>5.833</td>\n",
       "      <td>5.711</td>\n",
       "      <td>5.594</td>\n",
       "      <td>...</td>\n",
       "      <td>2.004</td>\n",
       "      <td>1.919</td>\n",
       "      <td>1.849</td>\n",
       "      <td>1.796</td>\n",
       "      <td>1.761</td>\n",
       "      <td>1.744</td>\n",
       "      <td>1.741</td>\n",
       "      <td>1.748</td>\n",
       "      <td>NaN</td>\n",
       "      <td>NaN</td>\n",
       "    </tr>\n",
       "  </tbody>\n",
       "</table>\n",
       "<p>5 rows × 58 columns</p>\n",
       "</div>"
      ],
      "text/plain": [
       "  Country Name Country Code                            Indicator Name  \\\n",
       "0        Aruba          ABW  Fertility rate, total (births per woman)   \n",
       "1      Andorra          AND  Fertility rate, total (births per woman)   \n",
       "2  Afghanistan          AFG  Fertility rate, total (births per woman)   \n",
       "3       Angola          AGO  Fertility rate, total (births per woman)   \n",
       "4      Albania          ALB  Fertility rate, total (births per woman)   \n",
       "\n",
       "   Indicator Code   1960   1961   1962   1963   1964   1965  ...   2004  \\\n",
       "0  SP.DYN.TFRT.IN  4.820  4.655  4.471  4.271  4.059  3.842  ...  1.786   \n",
       "1  SP.DYN.TFRT.IN    NaN    NaN    NaN    NaN    NaN    NaN  ...    NaN   \n",
       "2  SP.DYN.TFRT.IN  7.671  7.671  7.671  7.671  7.671  7.671  ...  7.136   \n",
       "3  SP.DYN.TFRT.IN  7.316  7.354  7.385  7.410  7.425  7.430  ...  6.704   \n",
       "4  SP.DYN.TFRT.IN  6.186  6.076  5.956  5.833  5.711  5.594  ...  2.004   \n",
       "\n",
       "    2005   2006   2007   2008   2009   2010   2011  2012  2013  \n",
       "0  1.769  1.754  1.739  1.726  1.713  1.701  1.690   NaN   NaN  \n",
       "1    NaN  1.240  1.180  1.250  1.190  1.220    NaN   NaN   NaN  \n",
       "2  6.930  6.702  6.456  6.196  5.928  5.659  5.395   NaN   NaN  \n",
       "3  6.657  6.598  6.523  6.434  6.331  6.218  6.099   NaN   NaN  \n",
       "4  1.919  1.849  1.796  1.761  1.744  1.741  1.748   NaN   NaN  \n",
       "\n",
       "[5 rows x 58 columns]"
      ]
     },
     "execution_count": 9,
     "metadata": {},
     "output_type": "execute_result"
    }
   ],
   "source": [
    "data = sm.datasets.fertility.load_pandas().data\n",
    "data.head()"
   ]
  },
  {
   "cell_type": "code",
   "execution_count": 10,
   "metadata": {
    "ExecuteTime": {
     "end_time": "2021-06-28T12:50:23.230687Z",
     "start_time": "2021-06-28T12:50:23.170324Z"
    }
   },
   "outputs": [
    {
     "data": {
      "text/html": [
       "<div>\n",
       "<style scoped>\n",
       "    .dataframe tbody tr th:only-of-type {\n",
       "        vertical-align: middle;\n",
       "    }\n",
       "\n",
       "    .dataframe tbody tr th {\n",
       "        vertical-align: top;\n",
       "    }\n",
       "\n",
       "    .dataframe thead th {\n",
       "        text-align: right;\n",
       "    }\n",
       "</style>\n",
       "<table border=\"1\" class=\"dataframe\">\n",
       "  <thead>\n",
       "    <tr style=\"text-align: right;\">\n",
       "      <th></th>\n",
       "      <th>1960</th>\n",
       "      <th>1961</th>\n",
       "      <th>1962</th>\n",
       "      <th>1963</th>\n",
       "      <th>1964</th>\n",
       "      <th>1965</th>\n",
       "      <th>1966</th>\n",
       "      <th>1967</th>\n",
       "      <th>1968</th>\n",
       "      <th>1969</th>\n",
       "      <th>...</th>\n",
       "      <th>2002</th>\n",
       "      <th>2003</th>\n",
       "      <th>2004</th>\n",
       "      <th>2005</th>\n",
       "      <th>2006</th>\n",
       "      <th>2007</th>\n",
       "      <th>2008</th>\n",
       "      <th>2009</th>\n",
       "      <th>2010</th>\n",
       "      <th>2011</th>\n",
       "    </tr>\n",
       "    <tr>\n",
       "      <th>Country Name</th>\n",
       "      <th></th>\n",
       "      <th></th>\n",
       "      <th></th>\n",
       "      <th></th>\n",
       "      <th></th>\n",
       "      <th></th>\n",
       "      <th></th>\n",
       "      <th></th>\n",
       "      <th></th>\n",
       "      <th></th>\n",
       "      <th></th>\n",
       "      <th></th>\n",
       "      <th></th>\n",
       "      <th></th>\n",
       "      <th></th>\n",
       "      <th></th>\n",
       "      <th></th>\n",
       "      <th></th>\n",
       "      <th></th>\n",
       "      <th></th>\n",
       "      <th></th>\n",
       "    </tr>\n",
       "  </thead>\n",
       "  <tbody>\n",
       "    <tr>\n",
       "      <th>Aruba</th>\n",
       "      <td>4.820</td>\n",
       "      <td>4.655</td>\n",
       "      <td>4.471</td>\n",
       "      <td>4.271</td>\n",
       "      <td>4.059</td>\n",
       "      <td>3.842</td>\n",
       "      <td>3.625</td>\n",
       "      <td>3.417</td>\n",
       "      <td>3.226</td>\n",
       "      <td>3.054</td>\n",
       "      <td>...</td>\n",
       "      <td>1.825</td>\n",
       "      <td>1.805</td>\n",
       "      <td>1.786</td>\n",
       "      <td>1.769</td>\n",
       "      <td>1.754</td>\n",
       "      <td>1.739</td>\n",
       "      <td>1.726</td>\n",
       "      <td>1.713</td>\n",
       "      <td>1.701</td>\n",
       "      <td>1.690</td>\n",
       "    </tr>\n",
       "    <tr>\n",
       "      <th>Afghanistan</th>\n",
       "      <td>7.671</td>\n",
       "      <td>7.671</td>\n",
       "      <td>7.671</td>\n",
       "      <td>7.671</td>\n",
       "      <td>7.671</td>\n",
       "      <td>7.671</td>\n",
       "      <td>7.671</td>\n",
       "      <td>7.671</td>\n",
       "      <td>7.671</td>\n",
       "      <td>7.671</td>\n",
       "      <td>...</td>\n",
       "      <td>7.484</td>\n",
       "      <td>7.321</td>\n",
       "      <td>7.136</td>\n",
       "      <td>6.930</td>\n",
       "      <td>6.702</td>\n",
       "      <td>6.456</td>\n",
       "      <td>6.196</td>\n",
       "      <td>5.928</td>\n",
       "      <td>5.659</td>\n",
       "      <td>5.395</td>\n",
       "    </tr>\n",
       "    <tr>\n",
       "      <th>Angola</th>\n",
       "      <td>7.316</td>\n",
       "      <td>7.354</td>\n",
       "      <td>7.385</td>\n",
       "      <td>7.410</td>\n",
       "      <td>7.425</td>\n",
       "      <td>7.430</td>\n",
       "      <td>7.422</td>\n",
       "      <td>7.403</td>\n",
       "      <td>7.375</td>\n",
       "      <td>7.339</td>\n",
       "      <td>...</td>\n",
       "      <td>6.778</td>\n",
       "      <td>6.743</td>\n",
       "      <td>6.704</td>\n",
       "      <td>6.657</td>\n",
       "      <td>6.598</td>\n",
       "      <td>6.523</td>\n",
       "      <td>6.434</td>\n",
       "      <td>6.331</td>\n",
       "      <td>6.218</td>\n",
       "      <td>6.099</td>\n",
       "    </tr>\n",
       "    <tr>\n",
       "      <th>Albania</th>\n",
       "      <td>6.186</td>\n",
       "      <td>6.076</td>\n",
       "      <td>5.956</td>\n",
       "      <td>5.833</td>\n",
       "      <td>5.711</td>\n",
       "      <td>5.594</td>\n",
       "      <td>5.483</td>\n",
       "      <td>5.376</td>\n",
       "      <td>5.268</td>\n",
       "      <td>5.160</td>\n",
       "      <td>...</td>\n",
       "      <td>2.195</td>\n",
       "      <td>2.097</td>\n",
       "      <td>2.004</td>\n",
       "      <td>1.919</td>\n",
       "      <td>1.849</td>\n",
       "      <td>1.796</td>\n",
       "      <td>1.761</td>\n",
       "      <td>1.744</td>\n",
       "      <td>1.741</td>\n",
       "      <td>1.748</td>\n",
       "    </tr>\n",
       "    <tr>\n",
       "      <th>United Arab Emirates</th>\n",
       "      <td>6.928</td>\n",
       "      <td>6.910</td>\n",
       "      <td>6.893</td>\n",
       "      <td>6.877</td>\n",
       "      <td>6.861</td>\n",
       "      <td>6.841</td>\n",
       "      <td>6.816</td>\n",
       "      <td>6.783</td>\n",
       "      <td>6.738</td>\n",
       "      <td>6.679</td>\n",
       "      <td>...</td>\n",
       "      <td>2.428</td>\n",
       "      <td>2.329</td>\n",
       "      <td>2.236</td>\n",
       "      <td>2.149</td>\n",
       "      <td>2.071</td>\n",
       "      <td>2.004</td>\n",
       "      <td>1.948</td>\n",
       "      <td>1.903</td>\n",
       "      <td>1.868</td>\n",
       "      <td>1.841</td>\n",
       "    </tr>\n",
       "  </tbody>\n",
       "</table>\n",
       "<p>5 rows × 52 columns</p>\n",
       "</div>"
      ],
      "text/plain": [
       "                       1960   1961   1962   1963   1964   1965   1966   1967  \\\n",
       "Country Name                                                                   \n",
       "Aruba                 4.820  4.655  4.471  4.271  4.059  3.842  3.625  3.417   \n",
       "Afghanistan           7.671  7.671  7.671  7.671  7.671  7.671  7.671  7.671   \n",
       "Angola                7.316  7.354  7.385  7.410  7.425  7.430  7.422  7.403   \n",
       "Albania               6.186  6.076  5.956  5.833  5.711  5.594  5.483  5.376   \n",
       "United Arab Emirates  6.928  6.910  6.893  6.877  6.861  6.841  6.816  6.783   \n",
       "\n",
       "                       1968   1969  ...   2002   2003   2004   2005   2006  \\\n",
       "Country Name                        ...                                      \n",
       "Aruba                 3.226  3.054  ...  1.825  1.805  1.786  1.769  1.754   \n",
       "Afghanistan           7.671  7.671  ...  7.484  7.321  7.136  6.930  6.702   \n",
       "Angola                7.375  7.339  ...  6.778  6.743  6.704  6.657  6.598   \n",
       "Albania               5.268  5.160  ...  2.195  2.097  2.004  1.919  1.849   \n",
       "United Arab Emirates  6.738  6.679  ...  2.428  2.329  2.236  2.149  2.071   \n",
       "\n",
       "                       2007   2008   2009   2010   2011  \n",
       "Country Name                                             \n",
       "Aruba                 1.739  1.726  1.713  1.701  1.690  \n",
       "Afghanistan           6.456  6.196  5.928  5.659  5.395  \n",
       "Angola                6.523  6.434  6.331  6.218  6.099  \n",
       "Albania               1.796  1.761  1.744  1.741  1.748  \n",
       "United Arab Emirates  2.004  1.948  1.903  1.868  1.841  \n",
       "\n",
       "[5 rows x 52 columns]"
      ]
     },
     "execution_count": 10,
     "metadata": {},
     "output_type": "execute_result"
    }
   ],
   "source": [
    "columns = list(map(str, range(1960, 2012)))\n",
    "data.set_index('Country Name', inplace=True)\n",
    "dta = data[columns]\n",
    "dta = dta.dropna()\n",
    "dta.head()"
   ]
  },
  {
   "cell_type": "code",
   "execution_count": 11,
   "metadata": {
    "ExecuteTime": {
     "end_time": "2021-06-28T12:50:39.657531Z",
     "start_time": "2021-06-28T12:50:39.450311Z"
    }
   },
   "outputs": [
    {
     "data": {
      "text/plain": [
       "(0.0, 51.0)"
      ]
     },
     "execution_count": 11,
     "metadata": {},
     "output_type": "execute_result"
    }
   ],
   "source": [
    "ax = dta.mean().plot(grid=False)\n",
    "ax.set_xlabel(\"Year\", size=17)\n",
    "ax.set_ylabel(\"Fertility rate\", size=17);\n",
    "ax.set_xlim(0, 51)"
   ]
  },
  {
   "cell_type": "code",
   "execution_count": 19,
   "metadata": {
    "ExecuteTime": {
     "end_time": "2021-06-28T12:51:00.335991Z",
     "start_time": "2021-06-28T12:51:00.043468Z"
    }
   },
   "outputs": [],
   "source": [
    "pca_model = PCA(dta.T, standardize=False, demean=True)"
   ]
  },
  {
   "cell_type": "code",
   "execution_count": 20,
   "metadata": {
    "ExecuteTime": {
     "end_time": "2021-06-28T12:51:12.858885Z",
     "start_time": "2021-06-28T12:51:12.649565Z"
    }
   },
   "outputs": [],
   "source": [
    "fig = pca_model.plot_scree(log_scale=False)"
   ]
  },
  {
   "cell_type": "code",
   "execution_count": 38,
   "metadata": {
    "ExecuteTime": {
     "end_time": "2021-06-28T12:51:28.310348Z",
     "start_time": "2021-06-28T12:51:28.035263Z"
    }
   },
   "outputs": [],
   "source": [
    "import matplotlib.pyplot as plt\n",
    "\n",
    "fig, ax = plt.subplots(figsize=(8, 4))\n",
    "lines = ax.plot(pca_model.factors.iloc[:, :3], lw=4, alpha=.6)\n",
    "\n",
    "# Set ticks and labels properly\n",
    "xtick_locs = range(0, len(dta.columns.values), 10)\n",
    "ax.set_xticks(xtick_locs)\n",
    "ax.set_xticklabels(dta.columns.values[::10])\n",
    "\n",
    "ax.set_xlim(0, 51)\n",
    "ax.set_xlabel(\"Year\", size=17)\n",
    "fig.subplots_adjust(.1, .1, .85, .9)\n",
    "\n",
    "legend = fig.legend(lines, ['PC 1', 'PC 2', 'PC 3'], loc='center right')\n",
    "legend.draw_frame(False)\n"
   ]
  },
  {
   "cell_type": "code",
   "execution_count": 39,
   "metadata": {
    "ExecuteTime": {
     "end_time": "2021-06-28T12:51:51.273996Z",
     "start_time": "2021-06-28T12:51:51.266018Z"
    }
   },
   "outputs": [],
   "source": [
    "idx = pca_model.loadings.iloc[:,0].argsort()"
   ]
  },
  {
   "cell_type": "code",
   "execution_count": 40,
   "metadata": {
    "ExecuteTime": {
     "end_time": "2021-06-28T12:52:02.946258Z",
     "start_time": "2021-06-28T12:52:02.924317Z"
    }
   },
   "outputs": [],
   "source": [
    "def make_plot(labels):\n",
    "    fig, ax = plt.subplots(figsize=(9,5))\n",
    "    ax = dta.loc[labels].T.plot(legend=False, grid=False, ax=ax)\n",
    "    dta.mean().plot(ax=ax, grid=False, label='Mean')\n",
    "    ax.set_xlim(0, 51);\n",
    "    fig.subplots_adjust(.1, .1, .75, .9)\n",
    "    ax.set_xlabel(\"Year\", size=17)\n",
    "    ax.set_ylabel(\"Fertility\", size=17);\n",
    "    legend = ax.legend(*ax.get_legend_handles_labels(), loc='center left', bbox_to_anchor=(1, .5))\n",
    "    legend.draw_frame(False)"
   ]
  },
  {
   "cell_type": "code",
   "execution_count": 41,
   "metadata": {
    "ExecuteTime": {
     "end_time": "2021-06-28T12:52:18.991036Z",
     "start_time": "2021-06-28T12:52:18.744806Z"
    }
   },
   "outputs": [],
   "source": [
    "labels = dta.index[idx[-5:]]\n",
    "make_plot(labels)"
   ]
  },
  {
   "cell_type": "code",
   "execution_count": 42,
   "metadata": {
    "ExecuteTime": {
     "end_time": "2021-06-28T12:52:40.718828Z",
     "start_time": "2021-06-28T12:52:40.457974Z"
    }
   },
   "outputs": [],
   "source": [
    "idx = pca_model.loadings.iloc[:,1].argsort()\n",
    "make_plot(dta.index[idx[-5:]])"
   ]
  },
  {
   "cell_type": "code",
   "execution_count": 43,
   "metadata": {
    "ExecuteTime": {
     "end_time": "2021-06-28T12:52:53.347528Z",
     "start_time": "2021-06-28T12:52:53.106177Z"
    }
   },
   "outputs": [
    {
     "name": "stderr",
     "output_type": "stream",
     "text": [
      "C:\\Users\\bisha\\AppData\\Local\\Temp\\ipykernel_5596\\2048057325.py:2: RuntimeWarning: More than 20 figures have been opened. Figures created through the pyplot interface (`matplotlib.pyplot.figure`) are retained until explicitly closed and may consume too much memory. (To control this warning, see the rcParam `figure.max_open_warning`). Consider using `matplotlib.pyplot.close()`.\n",
      "  fig, ax = plt.subplots(figsize=(9,5))\n"
     ]
    }
   ],
   "source": [
    "make_plot(dta.index[idx[:5]])"
   ]
  },
  {
   "cell_type": "code",
   "execution_count": 28,
   "metadata": {
    "ExecuteTime": {
     "end_time": "2021-06-28T12:53:06.937409Z",
     "start_time": "2021-06-28T12:53:06.705814Z"
    }
   },
   "outputs": [
    {
     "data": {
      "text/plain": [
       "array([], dtype=object)"
      ]
     },
     "execution_count": 28,
     "metadata": {},
     "output_type": "execute_result"
    }
   ],
   "source": [
    "fig, ax = plt.subplots()\n",
    "pca_model.loadings.plot.scatter(x='comp_00',y='comp_01', ax=ax)\n",
    "ax.set_xlabel(\"PC 1\", size=17)\n",
    "ax.set_ylabel(\"PC 2\", size=17)\n",
    "dta.index[pca_model.loadings.iloc[:, 1] > .2].values"
   ]
  },
  {
   "cell_type": "code",
   "execution_count": 29,
   "metadata": {
    "ExecuteTime": {
     "end_time": "2021-06-28T13:00:01.868480Z",
     "start_time": "2021-06-28T13:00:01.858475Z"
    }
   },
   "outputs": [
    {
     "name": "stdout",
     "output_type": "stream",
     "text": [
      "(0.7468241328124271, 8.291413475940725e-15)\n"
     ]
    }
   ],
   "source": [
    "\n",
    "import scipy.integrate\n",
    "f= lambda x:np.exp(-x**2)\n",
    "# print results\n",
    "i = scipy.integrate.quad(f, 0, 1)\n",
    "print(i)"
   ]
  },
  {
   "cell_type": "code",
   "execution_count": 30,
   "metadata": {
    "ExecuteTime": {
     "end_time": "2021-06-28T13:04:42.541850Z",
     "start_time": "2021-06-28T13:04:42.520906Z"
    }
   },
   "outputs": [
    {
     "name": "stdout",
     "output_type": "stream",
     "text": [
      "(4.670774270471606, 5.1856011379043454e-14)\n"
     ]
    }
   ],
   "source": [
    "import scipy.integrate\n",
    "f= lambda x:np.exp(x**1)\n",
    "# print reults\n",
    "i = scipy.integrate.quad(f, 1, 2)\n",
    "print(i)"
   ]
  },
  {
   "cell_type": "code",
   "execution_count": 31,
   "metadata": {
    "ExecuteTime": {
     "end_time": "2021-06-28T13:15:59.244720Z",
     "start_time": "2021-06-28T13:15:59.200836Z"
    }
   },
   "outputs": [
    {
     "name": "stdout",
     "output_type": "stream",
     "text": [
      "{'__header__': b'MATLAB 5.0 MAT-file Platform: nt, Created on: Sat Apr 12 14:43:37 2025', '__version__': '1.0', '__globals__': [], 'test': array([[14031977]])}\n",
      "[('test', (1, 1), 'int32')]\n"
     ]
    }
   ],
   "source": [
    "import scipy.io as syio\n",
    "  \n",
    "# Save the mat file\n",
    "n = 14031977\n",
    "syio.savemat('test.mat', {'test': n})\n",
    "  \n",
    "# Load the mat File\n",
    "matf_contents = syio.loadmat('test.mat')\n",
    "print(matf_contents)\n",
    "  \n",
    "# printing the contents of mat file.\n",
    "matf_contents = syio.whosmat('test.mat')\n",
    "print(matf_contents)"
   ]
  },
  {
   "cell_type": "code",
   "execution_count": 32,
   "metadata": {
    "ExecuteTime": {
     "end_time": "2021-06-28T13:22:25.353792Z",
     "start_time": "2021-06-28T13:22:25.315488Z"
    }
   },
   "outputs": [
    {
     "name": "stdout",
     "output_type": "stream",
     "text": [
      "{'__header__': b'MATLAB 5.0 MAT-file Platform: nt, Created on: Sat Apr 12 14:43:40 2025', '__version__': '1.0', '__globals__': [], 'test': array([[14031977]])}\n",
      "[('test', (1, 1), 'int32')]\n"
     ]
    }
   ],
   "source": [
    "import scipy.io as syio\n",
    "n = 14031977\n",
    "syio.savemat('test.mat', {'test': n})\n",
    "matf_contents = syio.loadmat('test.mat')\n",
    "print(matf_contents)\n",
    "matf_contents = syio.whosmat('test.mat')\n",
    "print(matf_contents)"
   ]
  },
  {
   "cell_type": "code",
   "execution_count": 33,
   "metadata": {
    "ExecuteTime": {
     "end_time": "2021-06-28T13:28:12.454977Z",
     "start_time": "2021-06-28T13:28:12.422666Z"
    }
   },
   "outputs": [
    {
     "name": "stdout",
     "output_type": "stream",
     "text": [
      "\n",
      "Z-score for arr2 : \n",
      " [[ 1.  1.  1. nan -1.]\n",
      " [-1. -1. -1. nan  1.]]\n",
      "\n",
      "Z-score for arr2 : \n",
      " [[ 1.62005758 -0.61045648 -0.61045648  0.68089376 -1.08003838]\n",
      " [-0.61601725 -0.72602033 -0.83602341  1.80405051  0.37401047]]\n"
     ]
    }
   ],
   "source": [
    "import numpy as np\n",
    "from scipy import stats\n",
    "\n",
    "arr2 = [[50, 12, 12, 34, 4],\n",
    "\t\t[12, 11, 10, 34, 21]]\n",
    "\n",
    "print (\"\\nZ-score for arr2 : \\n\", stats.zscore(arr2, axis = 0))\n",
    "print (\"\\nZ-score for arr2 : \\n\", stats.zscore(arr2, axis = 1))\n"
   ]
  },
  {
   "cell_type": "code",
   "execution_count": null,
   "metadata": {},
   "outputs": [],
   "source": []
  }
 ],
 "metadata": {
  "kernelspec": {
   "display_name": "base",
   "language": "python",
   "name": "python3"
  },
  "language_info": {
   "codemirror_mode": {
    "name": "ipython",
    "version": 3
   },
   "file_extension": ".py",
   "mimetype": "text/x-python",
   "name": "python",
   "nbconvert_exporter": "python",
   "pygments_lexer": "ipython3",
   "version": "3.12.3"
  },
  "nbTranslate": {
   "displayLangs": [
    "*"
   ],
   "hotkey": "alt-t",
   "langInMainMenu": true,
   "sourceLang": "en",
   "targetLang": "fr",
   "useGoogleTranslate": true
  },
  "toc": {
   "base_numbering": 1,
   "nav_menu": {},
   "number_sections": true,
   "sideBar": true,
   "skip_h1_title": false,
   "title_cell": "Table of Contents",
   "title_sidebar": "Contents",
   "toc_cell": false,
   "toc_position": {},
   "toc_section_display": true,
   "toc_window_display": false
  }
 },
 "nbformat": 4,
 "nbformat_minor": 4
}
