{
 "cells": [
  {
   "cell_type": "markdown",
   "id": "3f234746",
   "metadata": {},
   "source": [
    "## Calculate zonal statistics"
   ]
  },
  {
   "cell_type": "code",
   "execution_count": 1,
   "id": "74c5be1c",
   "metadata": {},
   "outputs": [],
   "source": [
    "# !pip install pylst"
   ]
  },
  {
   "cell_type": "code",
   "execution_count": 2,
   "id": "ee25deaa",
   "metadata": {},
   "outputs": [
    {
     "ename": "ModuleNotFoundError",
     "evalue": "No module named 'pylst'",
     "output_type": "error",
     "traceback": [
      "\u001b[1;31m---------------------------------------------------------------------------\u001b[0m",
      "\u001b[1;31mModuleNotFoundError\u001b[0m                       Traceback (most recent call last)",
      "Cell \u001b[1;32mIn[2], line 2\u001b[0m\n\u001b[0;32m      1\u001b[0m \u001b[38;5;66;03m# Import the calculate_zs function from the zonstat module in the pylst.spatial_analysis package\u001b[39;00m\n\u001b[1;32m----> 2\u001b[0m \u001b[38;5;28;01mfrom\u001b[39;00m \u001b[38;5;21;01mpylst\u001b[39;00m\u001b[38;5;21;01m.\u001b[39;00m\u001b[38;5;21;01mspatial_analysis\u001b[39;00m\u001b[38;5;21;01m.\u001b[39;00m\u001b[38;5;21;01mzonstat\u001b[39;00m \u001b[38;5;28;01mimport\u001b[39;00m calculate_zs\n\u001b[0;32m      4\u001b[0m \u001b[38;5;66;03m# Define the path to the shapefile containing the administrative boundaries (in this case, Erbil_Admi_3.shp)\u001b[39;00m\n\u001b[0;32m      5\u001b[0m shapefile_path \u001b[38;5;241m=\u001b[39m \u001b[38;5;124m\"\u001b[39m\u001b[38;5;124mErbil_Shapefile\u001b[39m\u001b[38;5;130;01m\\\\\u001b[39;00m\u001b[38;5;124mErbil_Admi_3.shp\u001b[39m\u001b[38;5;124m\"\u001b[39m\n",
      "\u001b[1;31mModuleNotFoundError\u001b[0m: No module named 'pylst'"
     ]
    }
   ],
   "source": [
    "# Import the calculate_zs function from the zonstat module in the pylst.spatial_analysis package\n",
    "from pylst.spatial_analysis.zonstat import calculate_zs\n",
    "\n",
    "# Define the path to the shapefile containing the administrative boundaries (in this case, Erbil_Admi_3.shp)\n",
    "shapefile_path = \"Erbil_Shapefile\\\\Erbil_Admi_3.shp\"\n",
    "\n",
    "# Define the path to the raster file (in this case, Chirps_Erbil.tif) for spatial analysis\n",
    "raster_path = \"Chirps_Erbil.tif\"\n",
    "\n",
    "# Call the calculate_zs function, passing the shapefile and raster paths as arguments\n",
    "# This function performs zone-based statistics, calculating values for each zone in the shapefile from the corresponding raster data\n",
    "df = calculate_zs(shapefile_path, raster_path)\n",
    "\n",
    "# Print the resulting DataFrame that contains the calculated zone-based statistics\n",
    "print(df)\n",
    "\n",
    "# Save Result of \n",
    "df.to_csv(\"zonal_stats_chirps.csv\", index=True)"
   ]
  },
  {
   "cell_type": "code",
   "execution_count": null,
   "id": "66d23671",
   "metadata": {},
   "outputs": [],
   "source": []
  }
 ],
 "metadata": {
  "kernelspec": {
   "display_name": "base",
   "language": "python",
   "name": "python3"
  },
  "language_info": {
   "codemirror_mode": {
    "name": "ipython",
    "version": 3
   },
   "file_extension": ".py",
   "mimetype": "text/x-python",
   "name": "python",
   "nbconvert_exporter": "python",
   "pygments_lexer": "ipython3",
   "version": "3.12.3"
  }
 },
 "nbformat": 4,
 "nbformat_minor": 5
}
